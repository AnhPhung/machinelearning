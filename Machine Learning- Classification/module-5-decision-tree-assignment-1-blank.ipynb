{
 "cells": [
  {
   "cell_type": "markdown",
   "metadata": {},
   "source": [
    "# Identifying safe loans with decision trees"
   ]
  },
  {
   "cell_type": "markdown",
   "metadata": {},
   "source": [
    "The [LendingClub](https://www.lendingclub.com/) is a peer-to-peer leading company that directly connects borrowers and potential lenders/investors. In this notebook, you will build a classification model to predict whether or not a loan provided by LendingClub is likely to [default](https://en.wikipedia.org/wiki/Default_(finance)).\n",
    "\n",
    "In this notebook you will use data from the LendingClub to predict whether a loan will be paid off in full or the loan will be [charged off](https://en.wikipedia.org/wiki/Charge-off) and possibly go into default. In this assignment you will:\n",
    "\n",
    "* Use SFrames to do some feature engineering.\n",
    "* Train a decision-tree on the LendingClub dataset.\n",
    "* Visualize the tree.\n",
    "* Predict whether a loan will default along with prediction probabilities (on a validation set).\n",
    "* Train a complex tree model and compare it to simple tree model.\n",
    "\n",
    "Let's get started!"
   ]
  },
  {
   "cell_type": "markdown",
   "metadata": {},
   "source": [
    "## Fire up Graphlab Create"
   ]
  },
  {
   "cell_type": "markdown",
   "metadata": {},
   "source": [
    "Make sure you have the latest version of GraphLab Create. If you don't find the decision tree module, then you would need to upgrade GraphLab Create using\n",
    "\n",
    "```\n",
    "   pip install graphlab-create --upgrade\n",
    "```"
   ]
  },
  {
   "cell_type": "code",
   "execution_count": 1,
   "metadata": {
    "collapsed": false
   },
   "outputs": [],
   "source": [
    "import graphlab\n",
    "graphlab.canvas.set_target('ipynb')"
   ]
  },
  {
   "cell_type": "markdown",
   "metadata": {},
   "source": [
    "# Load LendingClub dataset"
   ]
  },
  {
   "cell_type": "markdown",
   "metadata": {},
   "source": [
    "We will be using a dataset from the [LendingClub](https://www.lendingclub.com/). A parsed and cleaned form of the dataset is availiable [here](https://github.com/learnml/machine-learning-specialization-private). Make sure you **download the dataset** before running the following command."
   ]
  },
  {
   "cell_type": "code",
   "execution_count": 2,
   "metadata": {
    "collapsed": false
   },
   "outputs": [
    {
     "name": "stderr",
     "output_type": "stream",
     "text": [
      "2016-04-23 20:02:24,628 [INFO] graphlab.cython.cy_server, 176: GraphLab Create v1.8.5 started. Logging: C:\\Users\\Anh\\AppData\\Local\\Temp\\graphlab_server_1461459742.log.0\n"
     ]
    },
    {
     "name": "stdout",
     "output_type": "stream",
     "text": [
      "This non-commercial license of GraphLab Create is assigned to phun0031@d.umn.edu and will expire on March 17, 2017. For commercial licensing options, visit https://dato.com/buy/.\n"
     ]
    }
   ],
   "source": [
    "loans = graphlab.SFrame('lending-club-data.gl/')"
   ]
  },
  {
   "cell_type": "markdown",
   "metadata": {},
   "source": [
    "## Exploring some features\n",
    "\n",
    "Let's quickly explore what the dataset looks like. First, let's print out the column names to see what features we have in this dataset."
   ]
  },
  {
   "cell_type": "code",
   "execution_count": 3,
   "metadata": {
    "collapsed": false
   },
   "outputs": [
    {
     "data": {
      "text/plain": [
       "['id',\n",
       " 'member_id',\n",
       " 'loan_amnt',\n",
       " 'funded_amnt',\n",
       " 'funded_amnt_inv',\n",
       " 'term',\n",
       " 'int_rate',\n",
       " 'installment',\n",
       " 'grade',\n",
       " 'sub_grade',\n",
       " 'emp_title',\n",
       " 'emp_length',\n",
       " 'home_ownership',\n",
       " 'annual_inc',\n",
       " 'is_inc_v',\n",
       " 'issue_d',\n",
       " 'loan_status',\n",
       " 'pymnt_plan',\n",
       " 'url',\n",
       " 'desc',\n",
       " 'purpose',\n",
       " 'title',\n",
       " 'zip_code',\n",
       " 'addr_state',\n",
       " 'dti',\n",
       " 'delinq_2yrs',\n",
       " 'earliest_cr_line',\n",
       " 'inq_last_6mths',\n",
       " 'mths_since_last_delinq',\n",
       " 'mths_since_last_record',\n",
       " 'open_acc',\n",
       " 'pub_rec',\n",
       " 'revol_bal',\n",
       " 'revol_util',\n",
       " 'total_acc',\n",
       " 'initial_list_status',\n",
       " 'out_prncp',\n",
       " 'out_prncp_inv',\n",
       " 'total_pymnt',\n",
       " 'total_pymnt_inv',\n",
       " 'total_rec_prncp',\n",
       " 'total_rec_int',\n",
       " 'total_rec_late_fee',\n",
       " 'recoveries',\n",
       " 'collection_recovery_fee',\n",
       " 'last_pymnt_d',\n",
       " 'last_pymnt_amnt',\n",
       " 'next_pymnt_d',\n",
       " 'last_credit_pull_d',\n",
       " 'collections_12_mths_ex_med',\n",
       " 'mths_since_last_major_derog',\n",
       " 'policy_code',\n",
       " 'not_compliant',\n",
       " 'status',\n",
       " 'inactive_loans',\n",
       " 'bad_loans',\n",
       " 'emp_length_num',\n",
       " 'grade_num',\n",
       " 'sub_grade_num',\n",
       " 'delinq_2yrs_zero',\n",
       " 'pub_rec_zero',\n",
       " 'collections_12_mths_zero',\n",
       " 'short_emp',\n",
       " 'payment_inc_ratio',\n",
       " 'final_d',\n",
       " 'last_delinq_none',\n",
       " 'last_record_none',\n",
       " 'last_major_derog_none']"
      ]
     },
     "execution_count": 3,
     "metadata": {},
     "output_type": "execute_result"
    }
   ],
   "source": [
    "loans.column_names()"
   ]
  },
  {
   "cell_type": "markdown",
   "metadata": {},
   "source": [
    "Here, we see that we have some feature columns that have to do with grade of the loan, annual income, home ownership status, etc. Let's take a look at the distribution of loan grades in the dataset."
   ]
  },
  {
   "cell_type": "code",
   "execution_count": 4,
   "metadata": {
    "collapsed": false
   },
   "outputs": [
    {
     "data": {
      "application/javascript": [
       "$(\"head\").append($(\"<link/>\").attr({\n",
       "  rel:  \"stylesheet\",\n",
       "  type: \"text/css\",\n",
       "  href: \"//cdnjs.cloudflare.com/ajax/libs/font-awesome/4.1.0/css/font-awesome.min.css\"\n",
       "}));\n",
       "$(\"head\").append($(\"<link/>\").attr({\n",
       "  rel:  \"stylesheet\",\n",
       "  type: \"text/css\",\n",
       "  href: \"//dato.com/files/canvas/1.8.5/css/canvas.css\"\n",
       "}));\n",
       "\n",
       "            (function(){\n",
       "\n",
       "                var e = null;\n",
       "                if (typeof element == 'undefined') {\n",
       "                    var scripts = document.getElementsByTagName('script');\n",
       "                    var thisScriptTag = scripts[scripts.length-1];\n",
       "                    var parentDiv = thisScriptTag.parentNode;\n",
       "                    e = document.createElement('div');\n",
       "                    parentDiv.appendChild(e);\n",
       "                } else {\n",
       "                    e = element[0];\n",
       "                }\n",
       "\n",
       "                if (typeof requirejs !== 'undefined') {\n",
       "                    // disable load timeout; ipython_app.js is large and can take a while to load.\n",
       "                    requirejs.config({waitSeconds: 0});\n",
       "                }\n",
       "\n",
       "                require(['//dato.com/files/canvas/1.8.5/js/ipython_app.js'], function(IPythonApp){\n",
       "                    var app = new IPythonApp();\n",
       "                    app.attachView('sarray','Categorical', {\"ipython\": true, \"sketch\": {\"complete\": true, \"numeric\": false, \"num_unique\": 7, \"num_undefined\": 0, \"progress\": 1.0, \"frequent_items\": {\"A\": {\"frequency\": 22314, \"value\": \"A\"}, \"C\": {\"frequency\": 29950, \"value\": \"C\"}, \"B\": {\"frequency\": 37172, \"value\": \"B\"}, \"E\": {\"frequency\": 8990, \"value\": \"E\"}, \"D\": {\"frequency\": 19175, \"value\": \"D\"}, \"G\": {\"frequency\": 1074, \"value\": \"G\"}, \"F\": {\"frequency\": 3932, \"value\": \"F\"}}, \"size\": 122607}, \"selected_variable\": {\"name\": [\"<SArray>\"], \"dtype\": \"str\", \"view_component\": \"Categorical\", \"view_file\": \"sarray\", \"descriptives\": {\"rows\": 122607}, \"type\": \"SArray\", \"view_components\": [\"Categorical\"]}, \"histogram\": null}, e);\n",
       "                });\n",
       "            })();\n",
       "        "
      ]
     },
     "metadata": {},
     "output_type": "display_data"
    }
   ],
   "source": [
    "loans['grade'].show()"
   ]
  },
  {
   "cell_type": "markdown",
   "metadata": {},
   "source": [
    "We can see that over half of the loan grades are assigned values `B` or `C`. Each loan is assigned one of these grades, along with a more finely discretized feature called `sub_grade` (feel free to explore that feature column as well!). These values depend on the loan application and credit report, and determine the interest rate of the loan. More information can be found [here](https://www.lendingclub.com/public/rates-and-fees.action).\n",
    "\n",
    "Now, let's look at a different feature."
   ]
  },
  {
   "cell_type": "code",
   "execution_count": 5,
   "metadata": {
    "collapsed": false
   },
   "outputs": [
    {
     "data": {
      "application/javascript": [
       "$(\"head\").append($(\"<link/>\").attr({\n",
       "  rel:  \"stylesheet\",\n",
       "  type: \"text/css\",\n",
       "  href: \"//cdnjs.cloudflare.com/ajax/libs/font-awesome/4.1.0/css/font-awesome.min.css\"\n",
       "}));\n",
       "$(\"head\").append($(\"<link/>\").attr({\n",
       "  rel:  \"stylesheet\",\n",
       "  type: \"text/css\",\n",
       "  href: \"//dato.com/files/canvas/1.8.5/css/canvas.css\"\n",
       "}));\n",
       "\n",
       "            (function(){\n",
       "\n",
       "                var e = null;\n",
       "                if (typeof element == 'undefined') {\n",
       "                    var scripts = document.getElementsByTagName('script');\n",
       "                    var thisScriptTag = scripts[scripts.length-1];\n",
       "                    var parentDiv = thisScriptTag.parentNode;\n",
       "                    e = document.createElement('div');\n",
       "                    parentDiv.appendChild(e);\n",
       "                } else {\n",
       "                    e = element[0];\n",
       "                }\n",
       "\n",
       "                if (typeof requirejs !== 'undefined') {\n",
       "                    // disable load timeout; ipython_app.js is large and can take a while to load.\n",
       "                    requirejs.config({waitSeconds: 0});\n",
       "                }\n",
       "\n",
       "                require(['//dato.com/files/canvas/1.8.5/js/ipython_app.js'], function(IPythonApp){\n",
       "                    var app = new IPythonApp();\n",
       "                    app.attachView('sarray','Categorical', {\"ipython\": true, \"sketch\": {\"complete\": true, \"numeric\": false, \"num_unique\": 4, \"num_undefined\": 0, \"progress\": 1.0, \"frequent_items\": {\"OWN\": {\"frequency\": 9943, \"value\": \"OWN\"}, \"OTHER\": {\"frequency\": 179, \"value\": \"OTHER\"}, \"RENT\": {\"frequency\": 53245, \"value\": \"RENT\"}, \"MORTGAGE\": {\"frequency\": 59240, \"value\": \"MORTGAGE\"}}, \"size\": 122607}, \"selected_variable\": {\"name\": [\"<SArray>\"], \"dtype\": \"str\", \"view_component\": \"Categorical\", \"view_file\": \"sarray\", \"descriptives\": {\"rows\": 122607}, \"type\": \"SArray\", \"view_components\": [\"Categorical\"]}, \"histogram\": null}, e);\n",
       "                });\n",
       "            })();\n",
       "        "
      ]
     },
     "metadata": {},
     "output_type": "display_data"
    }
   ],
   "source": [
    "loans['home_ownership'].show()"
   ]
  },
  {
   "cell_type": "markdown",
   "metadata": {},
   "source": [
    "This feature describes whether the loanee is mortaging, renting, or owns a home. We can see that a small percentage of the loanees own a home."
   ]
  },
  {
   "cell_type": "markdown",
   "metadata": {},
   "source": [
    "## Exploring the target column\n",
    "\n",
    "The target column (label column) of the dataset that we are interested in is called `bad_loans`. In this column **1** means a risky (bad) loan **0** means a safe  loan.\n",
    "\n",
    "In order to make this more intuitive and consistent with the lectures, we reassign the target to be:\n",
    "* **+1** as a safe  loan, \n",
    "* **-1** as a risky (bad) loan. \n",
    "\n",
    "We put this in a new column called `safe_loans`."
   ]
  },
  {
   "cell_type": "code",
   "execution_count": 6,
   "metadata": {
    "collapsed": false
   },
   "outputs": [],
   "source": [
    "# safe_loans =  1 => safe\n",
    "# safe_loans = -1 => risky\n",
    "loans['safe_loans'] = loans['bad_loans'].apply(lambda x : +1 if x==0 else -1)\n",
    "loans = loans.remove_column('bad_loans')"
   ]
  },
  {
   "cell_type": "markdown",
   "metadata": {},
   "source": [
    "Now, let us explore the distribution of the column `safe_loans`. This gives us a sense of how many safe and risky loans are present in the dataset."
   ]
  },
  {
   "cell_type": "code",
   "execution_count": 7,
   "metadata": {
    "collapsed": false
   },
   "outputs": [
    {
     "data": {
      "application/javascript": [
       "$(\"head\").append($(\"<link/>\").attr({\n",
       "  rel:  \"stylesheet\",\n",
       "  type: \"text/css\",\n",
       "  href: \"//cdnjs.cloudflare.com/ajax/libs/font-awesome/4.1.0/css/font-awesome.min.css\"\n",
       "}));\n",
       "$(\"head\").append($(\"<link/>\").attr({\n",
       "  rel:  \"stylesheet\",\n",
       "  type: \"text/css\",\n",
       "  href: \"//dato.com/files/canvas/1.8.5/css/canvas.css\"\n",
       "}));\n",
       "\n",
       "            (function(){\n",
       "\n",
       "                var e = null;\n",
       "                if (typeof element == 'undefined') {\n",
       "                    var scripts = document.getElementsByTagName('script');\n",
       "                    var thisScriptTag = scripts[scripts.length-1];\n",
       "                    var parentDiv = thisScriptTag.parentNode;\n",
       "                    e = document.createElement('div');\n",
       "                    parentDiv.appendChild(e);\n",
       "                } else {\n",
       "                    e = element[0];\n",
       "                }\n",
       "\n",
       "                if (typeof requirejs !== 'undefined') {\n",
       "                    // disable load timeout; ipython_app.js is large and can take a while to load.\n",
       "                    requirejs.config({waitSeconds: 0});\n",
       "                }\n",
       "\n",
       "                require(['//dato.com/files/canvas/1.8.5/js/ipython_app.js'], function(IPythonApp){\n",
       "                    var app = new IPythonApp();\n",
       "                    app.attachView('sarray','Categorical', {\"ipython\": true, \"sketch\": {\"std\": 0.7827226562473063, \"complete\": true, \"min\": -1.0, \"max\": 1.0, \"quantile\": [-1.0, -1.0, -1.0, -1.0, -1.0, -1.0, -1.0, -1.0, -1.0, -1.0, -1.0, -1.0, -1.0, -1.0, -1.0, -1.0, -1.0, -1.0, -1.0, 1.0, 1.0, 1.0, 1.0, 1.0, 1.0, 1.0, 1.0, 1.0, 1.0, 1.0, 1.0, 1.0, 1.0, 1.0, 1.0, 1.0, 1.0, 1.0, 1.0, 1.0, 1.0, 1.0, 1.0, 1.0, 1.0, 1.0, 1.0, 1.0, 1.0, 1.0, 1.0, 1.0, 1.0, 1.0, 1.0, 1.0, 1.0, 1.0, 1.0, 1.0, 1.0, 1.0, 1.0, 1.0, 1.0, 1.0, 1.0, 1.0, 1.0, 1.0, 1.0, 1.0, 1.0, 1.0, 1.0, 1.0, 1.0, 1.0, 1.0, 1.0, 1.0, 1.0, 1.0, 1.0, 1.0, 1.0, 1.0, 1.0, 1.0, 1.0, 1.0, 1.0, 1.0, 1.0, 1.0, 1.0, 1.0, 1.0, 1.0, 1.0, 1.0], \"median\": 1.0, \"numeric\": true, \"num_unique\": 2, \"num_undefined\": 0, \"var\": 0.6126547566028389, \"progress\": 1.0, \"size\": 122607, \"frequent_items\": {\"1\": {\"frequency\": 99457, \"value\": 1}, \"-1\": {\"frequency\": 23150, \"value\": -1}}, \"mean\": 0.6223706639914548}, \"selected_variable\": {\"name\": [\"<SArray>\"], \"dtype\": \"int\", \"view_component\": \"Categorical\", \"view_file\": \"sarray\", \"descriptives\": {\"rows\": 122607}, \"type\": \"SArray\", \"view_components\": [\"Numeric\", \"Categorical\"]}, \"histogram\": {\"progress\": 1.0, \"histogram\": {\"max\": 1.0, \"bins\": [23150, 0, 0, 0, 0, 0, 0, 0, 0, 0, 0, 99457], \"min\": -1.0}, \"min\": -1, \"complete\": 1, \"max\": 1}}, e);\n",
       "                });\n",
       "            })();\n",
       "        "
      ]
     },
     "metadata": {},
     "output_type": "display_data"
    }
   ],
   "source": [
    "loans['safe_loans'].show(view = 'Categorical')"
   ]
  },
  {
   "cell_type": "markdown",
   "metadata": {},
   "source": [
    "You should have:\n",
    "* Around 81% safe loans\n",
    "* Around 19% risky loans\n",
    "\n",
    "It looks like most of these loans are safe loans (thankfully). But this does make our problem of identifying risky loans challenging."
   ]
  },
  {
   "cell_type": "markdown",
   "metadata": {},
   "source": [
    "## Features for the classification algorithm"
   ]
  },
  {
   "cell_type": "markdown",
   "metadata": {},
   "source": [
    "In this assignment, we will be using a subset of features (categorical and numeric). The features we will be using are **described in the code comments** below. If you are a finance geek, the [LendingClub](https://www.lendingclub.com/) website has a lot more details about these features."
   ]
  },
  {
   "cell_type": "code",
   "execution_count": 8,
   "metadata": {
    "collapsed": false
   },
   "outputs": [],
   "source": [
    "features = ['grade',                     # grade of the loan\n",
    "            'sub_grade',                 # sub-grade of the loan\n",
    "            'short_emp',                 # one year or less of employment\n",
    "            'emp_length_num',            # number of years of employment\n",
    "            'home_ownership',            # home_ownership status: own, mortgage or rent\n",
    "            'dti',                       # debt to income ratio\n",
    "            'purpose',                   # the purpose of the loan\n",
    "            'term',                      # the term of the loan\n",
    "            'last_delinq_none',          # has borrower had a delinquincy\n",
    "            'last_major_derog_none',     # has borrower had 90 day or worse rating\n",
    "            'revol_util',                # percent of available credit being used\n",
    "            'total_rec_late_fee',        # total late fees received to day\n",
    "           ]\n",
    "\n",
    "target = 'safe_loans'                   # prediction target (y) (+1 means safe, -1 is risky)\n",
    "\n",
    "# Extract the feature columns and target column\n",
    "loans = loans[features + [target]]"
   ]
  },
  {
   "cell_type": "markdown",
   "metadata": {},
   "source": [
    "What remains now is a **subset of features** and the **target** that we will use for the rest of this notebook. "
   ]
  },
  {
   "cell_type": "markdown",
   "metadata": {},
   "source": [
    "## Sample data to balance classes\n",
    "\n",
    "As we explored above, our data is disproportionally full of safe loans.  Let's create two datasets: one with just the safe loans (`safe_loans_raw`) and one with just the risky loans (`risky_loans_raw`)."
   ]
  },
  {
   "cell_type": "code",
   "execution_count": 9,
   "metadata": {
    "collapsed": false
   },
   "outputs": [
    {
     "name": "stdout",
     "output_type": "stream",
     "text": [
      "Number of safe loans  : 99457\n",
      "Number of risky loans : 23150\n"
     ]
    }
   ],
   "source": [
    "safe_loans_raw = loans[loans[target] == +1]\n",
    "risky_loans_raw = loans[loans[target] == -1]\n",
    "print \"Number of safe loans  : %s\" % len(safe_loans_raw)\n",
    "print \"Number of risky loans : %s\" % len(risky_loans_raw)"
   ]
  },
  {
   "cell_type": "markdown",
   "metadata": {},
   "source": [
    "Now, write some code to compute below the percentage of safe and risky loans in the dataset and validate these numbers against what was given using `.show` earlier in the assignment:"
   ]
  },
  {
   "cell_type": "code",
   "execution_count": 13,
   "metadata": {
    "collapsed": false
   },
   "outputs": [
    {
     "name": "stdout",
     "output_type": "stream",
     "text": [
      "Percentage of safe loans  : 0.811185331996\n",
      "Percentage of risky loans : 0.188814668004\n"
     ]
    }
   ],
   "source": [
    "print \"Percentage of safe loans  :\", float(len(safe_loans_raw))/len(loans)\n",
    "print \"Percentage of risky loans :\", float(len(risky_loans_raw))/len(loans) "
   ]
  },
  {
   "cell_type": "markdown",
   "metadata": {},
   "source": [
    "One way to combat class imbalance is to undersample the larger class until the class distribution is approximately half and half. Here, we will undersample the larger class (safe loans) in order to balance out our dataset. This means we are throwing away many data points. We used `seed=1` so everyone gets the same results."
   ]
  },
  {
   "cell_type": "code",
   "execution_count": 14,
   "metadata": {
    "collapsed": false
   },
   "outputs": [],
   "source": [
    "# Since there are fewer risky loans than safe loans, find the ratio of the sizes\n",
    "# and use that percentage to undersample the safe loans.\n",
    "percentage = len(risky_loans_raw)/float(len(safe_loans_raw))\n",
    "\n",
    "risky_loans = risky_loans_raw\n",
    "safe_loans = safe_loans_raw.sample(percentage, seed=1)\n",
    "\n",
    "# Append the risky_loans with the downsampled version of safe_loans\n",
    "loans_data = risky_loans.append(safe_loans)"
   ]
  },
  {
   "cell_type": "markdown",
   "metadata": {},
   "source": [
    "Now, let's verify that the resulting percentage of safe and risky loans are each nearly 50%."
   ]
  },
  {
   "cell_type": "code",
   "execution_count": 15,
   "metadata": {
    "collapsed": false
   },
   "outputs": [
    {
     "name": "stdout",
     "output_type": "stream",
     "text": [
      "Percentage of safe loans                 : 0.502236174422\n",
      "Percentage of risky loans                : 0.497763825578\n",
      "Total number of loans in our new dataset : 46508\n"
     ]
    }
   ],
   "source": [
    "print \"Percentage of safe loans                 :\", len(safe_loans) / float(len(loans_data))\n",
    "print \"Percentage of risky loans                :\", len(risky_loans) / float(len(loans_data))\n",
    "print \"Total number of loans in our new dataset :\", len(loans_data)"
   ]
  },
  {
   "cell_type": "markdown",
   "metadata": {},
   "source": [
    "**Note:** There are many approaches for dealing with imbalanced data, including some where we modify the learning algorithm. These approaches are beyond the scope of this course, but some of them are reviewed in this [paper](http://ieeexplore.ieee.org/xpl/login.jsp?tp=&arnumber=5128907&url=http%3A%2F%2Fieeexplore.ieee.org%2Fiel5%2F69%2F5173046%2F05128907.pdf%3Farnumber%3D5128907 ). For this assignment, we use the simplest possible approach, where we subsample the overly represented class to get a more balanced dataset. In general, and especially when the data is highly imbalanced, we recommend using more advanced methods."
   ]
  },
  {
   "cell_type": "markdown",
   "metadata": {},
   "source": [
    "## Split data into training and validation sets"
   ]
  },
  {
   "cell_type": "markdown",
   "metadata": {},
   "source": [
    "We split the data into training and validation sets using an 80/20 split and specifying `seed=1` so everyone gets the same results.\n",
    "\n",
    "**Note**: In previous assignments, we have called this a **train-test split**. However, the portion of data that we don't train on will be used to help **select model parameters** (this is known as model selection). Thus, this portion of data should be called a **validation set**. Recall that examining performance of various potential models (i.e. models with different parameters) should be on validation set, while evaluation of the final selected model should always be on test data. Typically, we would also save a portion of the data (a real test set) to test our final model on or use cross-validation on the training set to select our final model. But for the learning purposes of this assignment, we won't do that."
   ]
  },
  {
   "cell_type": "code",
   "execution_count": 16,
   "metadata": {
    "collapsed": false
   },
   "outputs": [],
   "source": [
    "train_data, validation_data = loans_data.random_split(.8, seed=1)"
   ]
  },
  {
   "cell_type": "markdown",
   "metadata": {},
   "source": [
    "# Use decision tree to build a classifier"
   ]
  },
  {
   "cell_type": "markdown",
   "metadata": {},
   "source": [
    "Now, let's use the built-in GraphLab Create decision tree learner to create a loan prediction model on the training data. (In the next assignment, you will implement your own decision tree learning algorithm.)  Our feature columns and target column have already been decided above. Use `validation_set=None` to get the same results as everyone else."
   ]
  },
  {
   "cell_type": "code",
   "execution_count": 17,
   "metadata": {
    "collapsed": false
   },
   "outputs": [
    {
     "data": {
      "text/html": [
       "<pre>Decision tree classifier:</pre>"
      ],
      "text/plain": [
       "Decision tree classifier:"
      ]
     },
     "metadata": {},
     "output_type": "display_data"
    },
    {
     "data": {
      "text/html": [
       "<pre>--------------------------------------------------------</pre>"
      ],
      "text/plain": [
       "--------------------------------------------------------"
      ]
     },
     "metadata": {},
     "output_type": "display_data"
    },
    {
     "data": {
      "text/html": [
       "<pre>Number of examples          : 37224</pre>"
      ],
      "text/plain": [
       "Number of examples          : 37224"
      ]
     },
     "metadata": {},
     "output_type": "display_data"
    },
    {
     "data": {
      "text/html": [
       "<pre>Number of classes           : 2</pre>"
      ],
      "text/plain": [
       "Number of classes           : 2"
      ]
     },
     "metadata": {},
     "output_type": "display_data"
    },
    {
     "data": {
      "text/html": [
       "<pre>Number of feature columns   : 12</pre>"
      ],
      "text/plain": [
       "Number of feature columns   : 12"
      ]
     },
     "metadata": {},
     "output_type": "display_data"
    },
    {
     "data": {
      "text/html": [
       "<pre>Number of unpacked features : 12</pre>"
      ],
      "text/plain": [
       "Number of unpacked features : 12"
      ]
     },
     "metadata": {},
     "output_type": "display_data"
    },
    {
     "data": {
      "text/html": [
       "<pre>+-----------+--------------+-------------------+-------------------+</pre>"
      ],
      "text/plain": [
       "+-----------+--------------+-------------------+-------------------+"
      ]
     },
     "metadata": {},
     "output_type": "display_data"
    },
    {
     "data": {
      "text/html": [
       "<pre>| Iteration | Elapsed Time | Training-accuracy | Training-log_loss |</pre>"
      ],
      "text/plain": [
       "| Iteration | Elapsed Time | Training-accuracy | Training-log_loss |"
      ]
     },
     "metadata": {},
     "output_type": "display_data"
    },
    {
     "data": {
      "text/html": [
       "<pre>+-----------+--------------+-------------------+-------------------+</pre>"
      ],
      "text/plain": [
       "+-----------+--------------+-------------------+-------------------+"
      ]
     },
     "metadata": {},
     "output_type": "display_data"
    },
    {
     "data": {
      "text/html": [
       "<pre>| 1         | 0.047902     | 0.640581          | 0.663259          |</pre>"
      ],
      "text/plain": [
       "| 1         | 0.047902     | 0.640581          | 0.663259          |"
      ]
     },
     "metadata": {},
     "output_type": "display_data"
    },
    {
     "data": {
      "text/html": [
       "<pre>+-----------+--------------+-------------------+-------------------+</pre>"
      ],
      "text/plain": [
       "+-----------+--------------+-------------------+-------------------+"
      ]
     },
     "metadata": {},
     "output_type": "display_data"
    }
   ],
   "source": [
    "decision_tree_model = graphlab.decision_tree_classifier.create(train_data, validation_set=None,\n",
    "                                target = target, features = features)"
   ]
  },
  {
   "cell_type": "markdown",
   "metadata": {},
   "source": [
    "## Visualizing a learned model"
   ]
  },
  {
   "cell_type": "markdown",
   "metadata": {},
   "source": [
    "As noted in the [documentation](https://dato.com/products/create/docs/generated/graphlab.boosted_trees_classifier.create.html#graphlab.boosted_trees_classifier.create), typically the max depth of the tree is capped at 6. However, such a tree can be hard to visualize graphically.  Here, we instead learn a smaller model with **max depth of 2** to gain some intuition by visualizing the learned tree."
   ]
  },
  {
   "cell_type": "code",
   "execution_count": 18,
   "metadata": {
    "collapsed": false
   },
   "outputs": [
    {
     "data": {
      "text/html": [
       "<pre>Decision tree classifier:</pre>"
      ],
      "text/plain": [
       "Decision tree classifier:"
      ]
     },
     "metadata": {},
     "output_type": "display_data"
    },
    {
     "data": {
      "text/html": [
       "<pre>--------------------------------------------------------</pre>"
      ],
      "text/plain": [
       "--------------------------------------------------------"
      ]
     },
     "metadata": {},
     "output_type": "display_data"
    },
    {
     "data": {
      "text/html": [
       "<pre>Number of examples          : 37224</pre>"
      ],
      "text/plain": [
       "Number of examples          : 37224"
      ]
     },
     "metadata": {},
     "output_type": "display_data"
    },
    {
     "data": {
      "text/html": [
       "<pre>Number of classes           : 2</pre>"
      ],
      "text/plain": [
       "Number of classes           : 2"
      ]
     },
     "metadata": {},
     "output_type": "display_data"
    },
    {
     "data": {
      "text/html": [
       "<pre>Number of feature columns   : 12</pre>"
      ],
      "text/plain": [
       "Number of feature columns   : 12"
      ]
     },
     "metadata": {},
     "output_type": "display_data"
    },
    {
     "data": {
      "text/html": [
       "<pre>Number of unpacked features : 12</pre>"
      ],
      "text/plain": [
       "Number of unpacked features : 12"
      ]
     },
     "metadata": {},
     "output_type": "display_data"
    },
    {
     "data": {
      "text/html": [
       "<pre>+-----------+--------------+-------------------+-------------------+</pre>"
      ],
      "text/plain": [
       "+-----------+--------------+-------------------+-------------------+"
      ]
     },
     "metadata": {},
     "output_type": "display_data"
    },
    {
     "data": {
      "text/html": [
       "<pre>| Iteration | Elapsed Time | Training-accuracy | Training-log_loss |</pre>"
      ],
      "text/plain": [
       "| Iteration | Elapsed Time | Training-accuracy | Training-log_loss |"
      ]
     },
     "metadata": {},
     "output_type": "display_data"
    },
    {
     "data": {
      "text/html": [
       "<pre>+-----------+--------------+-------------------+-------------------+</pre>"
      ],
      "text/plain": [
       "+-----------+--------------+-------------------+-------------------+"
      ]
     },
     "metadata": {},
     "output_type": "display_data"
    },
    {
     "data": {
      "text/html": [
       "<pre>| 1         | 0.024001     | 0.613502          | 0.676098          |</pre>"
      ],
      "text/plain": [
       "| 1         | 0.024001     | 0.613502          | 0.676098          |"
      ]
     },
     "metadata": {},
     "output_type": "display_data"
    },
    {
     "data": {
      "text/html": [
       "<pre>+-----------+--------------+-------------------+-------------------+</pre>"
      ],
      "text/plain": [
       "+-----------+--------------+-------------------+-------------------+"
      ]
     },
     "metadata": {},
     "output_type": "display_data"
    }
   ],
   "source": [
    "small_model = graphlab.decision_tree_classifier.create(train_data, validation_set=None,\n",
    "                   target = target, features = features, max_depth = 2)"
   ]
  },
  {
   "cell_type": "markdown",
   "metadata": {},
   "source": [
    "In the view that is provided by GraphLab Create, you can see each node, and each split at each node. This visualization is great for considering what happens when this model predicts the target of a new data point. \n",
    "\n",
    "**Note:** To better understand this visual:\n",
    "* The root node is represented using pink. \n",
    "* Intermediate nodes are in green. \n",
    "* Leaf nodes in blue and orange. "
   ]
  },
  {
   "cell_type": "code",
   "execution_count": 19,
   "metadata": {
    "collapsed": false
   },
   "outputs": [
    {
     "data": {
      "application/javascript": [
       "$(\"head\").append($(\"<link/>\").attr({\n",
       "  rel:  \"stylesheet\",\n",
       "  type: \"text/css\",\n",
       "  href: \"//cdnjs.cloudflare.com/ajax/libs/font-awesome/4.1.0/css/font-awesome.min.css\"\n",
       "}));\n",
       "$(\"head\").append($(\"<link/>\").attr({\n",
       "  rel:  \"stylesheet\",\n",
       "  type: \"text/css\",\n",
       "  href: \"//dato.com/files/canvas/1.8.5/css/canvas.css\"\n",
       "}));\n",
       "\n",
       "            (function(){\n",
       "\n",
       "                var e = null;\n",
       "                if (typeof element == 'undefined') {\n",
       "                    var scripts = document.getElementsByTagName('script');\n",
       "                    var thisScriptTag = scripts[scripts.length-1];\n",
       "                    var parentDiv = thisScriptTag.parentNode;\n",
       "                    e = document.createElement('div');\n",
       "                    parentDiv.appendChild(e);\n",
       "                } else {\n",
       "                    e = element[0];\n",
       "                }\n",
       "\n",
       "                if (typeof requirejs !== 'undefined') {\n",
       "                    // disable load timeout; ipython_app.js is large and can take a while to load.\n",
       "                    requirejs.config({waitSeconds: 0});\n",
       "                }\n",
       "\n",
       "                require(['//dato.com/files/canvas/1.8.5/js/ipython_app.js'], function(IPythonApp){\n",
       "                    var app = new IPythonApp();\n",
       "                    app.attachView('sgraph','View', {\"edges_labels\": [\"yes\", \"no\", \"yes\", \"no\", \"no\", \"yes\"], \"selected_variable\": {\"name\": [\"<SGraph>\"], \"view_file\": \"sgraph\", \"view_component\": \"View\", \"view_params\": {\"elabel_hover\": false, \"vertex_positions\": null, \"h_offset\": 0.0, \"node_size\": 300, \"ecolor\": [0.37, 0.33, 0.33], \"elabel\": \"value\", \"arrows\": true, \"ewidth\": 1, \"vlabel\": \"__repr__\", \"highlight_color\": [0.69, 0.0, 0.498], \"vcolor\": [0.522, 0.741, 0.0], \"vlabel_hover\": false, \"highlight\": {\"0\": [0.69, 0.0, 0.48], \"3\": [0.039, 0.55, 0.77], \"4\": [1.0, 0.33, 0.0], \"5\": [1.0, 0.33, 0.0], \"6\": [0.039, 0.55, 0.77]}, \"v_offset\": 0.03}, \"view_components\": [\"View\"], \"type\": \"SGraph\", \"descriptives_links\": {\"edges\": \"edges\", \"vertices\": \"vertices\"}, \"descriptives\": {\"edges\": 6, \"vertices\": 7}}, \"positions\": null, \"error_type\": 0, \"vertices\": [5, 0, 2, 6, 3, 1, 4], \"vertices_labels\": [\"0.3223\", \"grade=A\", \"total_rec_late_fee<14.83015\", \"-0.273469\", \"-0.111044\", \"grade=B\", \"0.097203\"], \"edges\": [[0, 2], [0, 1], [2, 5], [2, 6], [1, 3], [1, 4]], \"ipython\": true, \"error_msg\": \"\"}, e);\n",
       "                });\n",
       "            })();\n",
       "        "
      ]
     },
     "metadata": {},
     "output_type": "display_data"
    }
   ],
   "source": [
    "small_model.show(view=\"Tree\")"
   ]
  },
  {
   "cell_type": "code",
   "execution_count": 47,
   "metadata": {
    "collapsed": false
   },
   "outputs": [
    {
     "data": {
      "application/javascript": [
       "$(\"head\").append($(\"<link/>\").attr({\n",
       "  rel:  \"stylesheet\",\n",
       "  type: \"text/css\",\n",
       "  href: \"//cdnjs.cloudflare.com/ajax/libs/font-awesome/4.1.0/css/font-awesome.min.css\"\n",
       "}));\n",
       "$(\"head\").append($(\"<link/>\").attr({\n",
       "  rel:  \"stylesheet\",\n",
       "  type: \"text/css\",\n",
       "  href: \"//dato.com/files/canvas/1.8.5/css/canvas.css\"\n",
       "}));\n",
       "\n",
       "            (function(){\n",
       "\n",
       "                var e = null;\n",
       "                if (typeof element == 'undefined') {\n",
       "                    var scripts = document.getElementsByTagName('script');\n",
       "                    var thisScriptTag = scripts[scripts.length-1];\n",
       "                    var parentDiv = thisScriptTag.parentNode;\n",
       "                    e = document.createElement('div');\n",
       "                    parentDiv.appendChild(e);\n",
       "                } else {\n",
       "                    e = element[0];\n",
       "                }\n",
       "\n",
       "                if (typeof requirejs !== 'undefined') {\n",
       "                    // disable load timeout; ipython_app.js is large and can take a while to load.\n",
       "                    requirejs.config({waitSeconds: 0});\n",
       "                }\n",
       "\n",
       "                require(['//dato.com/files/canvas/1.8.5/js/ipython_app.js'], function(IPythonApp){\n",
       "                    var app = new IPythonApp();\n",
       "                    app.attachView('sgraph','View', {\"edges_labels\": [\"yes\", \"yes\", \"no\", \"no\", \"yes\", \"no\", \"no\", \"yes\", \"yes\", \"no\", \"no\", \"yes\", \"no\", \"yes\", \"yes\", \"no\", \"no\", \"yes\", \"yes\", \"no\", \"no\", \"no\", \"yes\", \"yes\", \"no\", \"no\", \"yes\", \"yes\", \"yes\", \"no\", \"yes\", \"yes\", \"no\", \"no\", \"yes\", \"yes\", \"no\", \"yes\", \"yes\", \"yes\", \"yes\", \"no\", \"no\", \"no\", \"no\", \"no\", \"no\", \"yes\", \"yes\", \"no\", \"yes\", \"no\", \"yes\", \"no\", \"no\", \"yes\", \"yes\", \"no\", \"yes\", \"no\", \"no\", \"yes\", \"no\", \"yes\", \"yes\", \"yes\", \"no\", \"no\", \"yes\", \"yes\", \"no\", \"no\", \"yes\", \"no\", \"no\", \"yes\", \"yes\", \"no\", \"yes\", \"no\", \"no\", \"yes\", \"yes\", \"no\", \"no\", \"yes\", \"yes\", \"yes\", \"no\", \"no\", \"no\", \"no\", \"yes\", \"no\", \"yes\", \"yes\", \"no\", \"yes\", \"yes\", \"no\", \"no\", \"no\", \"yes\", \"yes\", \"yes\", \"no\", \"yes\", \"no\", \"yes\", \"no\"], \"selected_variable\": {\"name\": [\"<SGraph>\"], \"view_file\": \"sgraph\", \"view_component\": \"View\", \"view_params\": {\"elabel_hover\": false, \"vertex_positions\": null, \"h_offset\": 0.0, \"node_size\": 300, \"ecolor\": [0.37, 0.33, 0.33], \"elabel\": \"value\", \"arrows\": true, \"ewidth\": 1, \"vlabel\": \"__repr__\", \"highlight_color\": [0.69, 0.0, 0.498], \"vcolor\": [0.522, 0.741, 0.0], \"vlabel_hover\": false, \"highlight\": {\"0\": [0.69, 0.0, 0.48], \"21\": [1.0, 0.33, 0.0], \"38\": [1.0, 0.33, 0.0], \"44\": [1.0, 0.33, 0.0], \"48\": [0.039, 0.55, 0.77], \"50\": [0.039, 0.55, 0.77], \"55\": [1.0, 0.33, 0.0], \"61\": [0.039, 0.55, 0.77], \"62\": [0.039, 0.55, 0.77], \"63\": [0.039, 0.55, 0.77], \"64\": [0.039, 0.55, 0.77], \"65\": [1.0, 0.33, 0.0], \"66\": [0.039, 0.55, 0.77], \"67\": [0.039, 0.55, 0.77], \"68\": [0.039, 0.55, 0.77], \"69\": [0.039, 0.55, 0.77], \"70\": [0.039, 0.55, 0.77], \"71\": [0.039, 0.55, 0.77], \"72\": [1.0, 0.33, 0.0], \"73\": [0.039, 0.55, 0.77], \"74\": [1.0, 0.33, 0.0], \"75\": [1.0, 0.33, 0.0], \"76\": [0.039, 0.55, 0.77], \"77\": [1.0, 0.33, 0.0], \"78\": [0.039, 0.55, 0.77], \"79\": [1.0, 0.33, 0.0], \"80\": [0.039, 0.55, 0.77], \"81\": [0.039, 0.55, 0.77], \"82\": [0.039, 0.55, 0.77], \"83\": [0.039, 0.55, 0.77], \"84\": [0.039, 0.55, 0.77], \"85\": [1.0, 0.33, 0.0], \"86\": [1.0, 0.33, 0.0], \"87\": [1.0, 0.33, 0.0], \"88\": [1.0, 0.33, 0.0], \"89\": [1.0, 0.33, 0.0], \"90\": [1.0, 0.33, 0.0], \"91\": [0.039, 0.55, 0.77], \"92\": [1.0, 0.33, 0.0], \"93\": [1.0, 0.33, 0.0], \"94\": [1.0, 0.33, 0.0], \"95\": [1.0, 0.33, 0.0], \"96\": [1.0, 0.33, 0.0], \"97\": [0.039, 0.55, 0.77], \"98\": [1.0, 0.33, 0.0], \"99\": [0.039, 0.55, 0.77], \"100\": [1.0, 0.33, 0.0], \"101\": [0.039, 0.55, 0.77], \"102\": [1.0, 0.33, 0.0], \"103\": [0.039, 0.55, 0.77], \"104\": [1.0, 0.33, 0.0], \"105\": [0.039, 0.55, 0.77], \"106\": [1.0, 0.33, 0.0], \"107\": [0.039, 0.55, 0.77], \"108\": [1.0, 0.33, 0.0], \"109\": [1.0, 0.33, 0.0], \"110\": [0.039, 0.55, 0.77]}, \"v_offset\": 0.03}, \"view_components\": [\"View\"], \"type\": \"SGraph\", \"descriptives_links\": {\"edges\": \"edges\", \"vertices\": \"vertices\"}, \"descriptives\": {\"edges\": 110, \"vertices\": 111}}, \"positions\": null, \"error_type\": 0, \"vertices\": [110, 96, 52, 50, 92, 7, 29, 87, 33, 47, 68, 8, 27, 70, 73, 10, 5, 107, 56, 49, 109, 58, 63, 67, 34, 16, 30, 65, 21, 36, 23, 76, 89, 103, 83, 0, 15, 106, 62, 78, 18, 105, 37, 61, 38, 40, 43, 108, 35, 75, 53, 2, 31, 88, 26, 86, 59, 46, 48, 13, 28, 97, 32, 71, 69, 51, 9, 72, 91, 93, 74, 6, 14, 3, 80, 54, 45, 98, 100, 85, 25, 12, 94, 60, 64, 19, 39, 20, 104, 101, 1, 41, 102, 79, 42, 81, 82, 57, 95, 66, 17, 99, 4, 90, 77, 55, 22, 11, 84, 44, 24], \"vertices_labels\": [\"-0.12\", \"0.355556\", \"home_ownership=OWN\", \"-0.381818\", \"0.25\", \"grade=C\", \"emp_length_num<7.5\", \"0.349301\", \"term= 60 months\", \"home_ownership=RENT\", \"-0.172482\", \"term= 60 months\", \"total_rec_late_fee<14.99165\", \"-0.186207\", \"-0.524455\", \"dti<0.19\", \"dti<16.435001\", \"-0.424719\", \"short_emp<0.5\", \"revol_util<52.900002\", \"0.2\", \"last_major_derog_none<0.5\", \"-0.274526\", \"-0.087723\", \"dti<27.35\", \"dti<20.99\", \"revol_util<84.75\", \"0.067079\", \"0.257143\", \"sub_grade=F3\", \"revol_util<31.450001\", \"-0.090647\", \"0.24\", \"-0.36\", \"-0.305806\", \"grade=A\", \"dti<18.205\", \"0.36\", \"-0.176765\", \"-0.353846\", \"dti<35.915001\", \"-0.12\", \"revol_util<103.550003\", \"-0.043518\", \"0.12\", \"purpose=small_business\", \"last_delinq_none<0.5\", \"0.12\", \"dti<10.184999\", \"0.18997\", \"purpose=car\", \"total_rec_late_fee<14.83015\", \"term= 60 months\", \"0.250685\", \"dti<23.505001\", \"0.317197\", \"purpose=house\", \"revol_util<65.550003\", \"-0.381818\", \"dti<3.81\", \"purpose=car\", \"-0.44\", \"grade=D\", \"-0.436364\", \"-0.355932\", \"revol_util<52.450001\", \"dti<17.235001\", \"0.0\", \"-0.026087\", \"0.31848\", \"0.0\", \"dti<5.485\", \"revol_util<11.9\", \"total_rec_late_fee<0.005\", \"-0.094556\", \"sub_grade=A4\", \"sub_grade=A5\", \"0.12\", \"0.257143\", \"0.441127\", \"revol_util<72.25\", \"emp_length_num<0.5\", \"0.187402\", \"emp_length_num<7.0\", \"-0.180519\", \"term= 60 months\", \"purpose=small_business\", \"term= 60 months\", \"0.085714\", \"-0.12\", \"grade=B\", \"dti<29.314999\", \"0.12\", \"0.08409\", \"revol_util<45.150002\", \"-0.037321\", \"-0.235359\", \"dti<17.610001\", \"0.141176\", \"-0.048303\", \"dti<11.764999\", \"-0.138462\", \"total_rec_late_fee<0.005\", \"0.025\", \"0.02359\", \"0.381818\", \"total_rec_late_fee<101.98465\", \"purpose=small_business\", \"-0.413445\", \"0.12\", \"revol_util<58.599998\"], \"edges\": [[52, 96], [7, 16], [33, 65], [47, 89], [10, 21], [29, 58], [7, 15], [8, 18], [27, 53], [5, 12], [27, 54], [33, 66], [8, 17], [5, 11], [47, 90], [10, 22], [52, 95], [29, 57], [16, 33], [34, 68], [49, 92], [16, 34], [34, 67], [58, 105], [58, 106], [23, 46], [30, 59], [36, 72], [49, 91], [36, 71], [23, 45], [56, 101], [56, 102], [30, 60], [37, 73], [18, 37], [18, 38], [40, 78], [43, 83], [0, 2], [15, 31], [15, 32], [37, 74], [0, 1], [40, 77], [43, 84], [35, 70], [2, 5], [46, 87], [26, 52], [13, 27], [59, 107], [31, 62], [31, 61], [46, 88], [59, 108], [35, 69], [2, 6], [26, 51], [13, 28], [53, 97], [53, 98], [32, 63], [28, 56], [6, 13], [51, 93], [51, 94], [6, 14], [32, 64], [9, 19], [9, 20], [28, 55], [3, 7], [3, 8], [25, 50], [14, 29], [25, 49], [14, 30], [45, 86], [12, 26], [45, 85], [12, 25], [54, 100], [54, 99], [60, 110], [39, 76], [60, 109], [19, 40], [39, 75], [1, 3], [41, 80], [19, 39], [20, 42], [20, 41], [41, 79], [42, 81], [42, 82], [1, 4], [24, 47], [4, 10], [17, 36], [11, 23], [22, 43], [57, 103], [17, 35], [24, 48], [4, 9], [57, 104], [11, 24], [22, 44]], \"ipython\": true, \"error_msg\": \"\"}, e);\n",
       "                });\n",
       "            })();\n",
       "        "
      ]
     },
     "metadata": {},
     "output_type": "display_data"
    }
   ],
   "source": [
    "decision_tree_model.show(view='Tree')"
   ]
  },
  {
   "cell_type": "markdown",
   "metadata": {},
   "source": [
    "# Making predictions\n",
    "\n",
    "Let's consider two positive and two negative examples **from the validation set** and see what the model predicts. We will do the following:\n",
    "* Predict whether or not a loan is safe.\n",
    "* Predict the probability that a loan is safe."
   ]
  },
  {
   "cell_type": "code",
   "execution_count": 20,
   "metadata": {
    "collapsed": false
   },
   "outputs": [
    {
     "data": {
      "text/html": [
       "<div style=\"max-height:1000px;max-width:1500px;overflow:auto;\"><table frame=\"box\" rules=\"cols\">\n",
       "    <tr>\n",
       "        <th style=\"padding-left: 1em; padding-right: 1em; text-align: center\">grade</th>\n",
       "        <th style=\"padding-left: 1em; padding-right: 1em; text-align: center\">sub_grade</th>\n",
       "        <th style=\"padding-left: 1em; padding-right: 1em; text-align: center\">short_emp</th>\n",
       "        <th style=\"padding-left: 1em; padding-right: 1em; text-align: center\">emp_length_num</th>\n",
       "        <th style=\"padding-left: 1em; padding-right: 1em; text-align: center\">home_ownership</th>\n",
       "        <th style=\"padding-left: 1em; padding-right: 1em; text-align: center\">dti</th>\n",
       "        <th style=\"padding-left: 1em; padding-right: 1em; text-align: center\">purpose</th>\n",
       "        <th style=\"padding-left: 1em; padding-right: 1em; text-align: center\">term</th>\n",
       "        <th style=\"padding-left: 1em; padding-right: 1em; text-align: center\">last_delinq_none</th>\n",
       "    </tr>\n",
       "    <tr>\n",
       "        <td style=\"padding-left: 1em; padding-right: 1em; text-align: center; vertical-align: top\">B</td>\n",
       "        <td style=\"padding-left: 1em; padding-right: 1em; text-align: center; vertical-align: top\">B3</td>\n",
       "        <td style=\"padding-left: 1em; padding-right: 1em; text-align: center; vertical-align: top\">0</td>\n",
       "        <td style=\"padding-left: 1em; padding-right: 1em; text-align: center; vertical-align: top\">11</td>\n",
       "        <td style=\"padding-left: 1em; padding-right: 1em; text-align: center; vertical-align: top\">OWN</td>\n",
       "        <td style=\"padding-left: 1em; padding-right: 1em; text-align: center; vertical-align: top\">11.18</td>\n",
       "        <td style=\"padding-left: 1em; padding-right: 1em; text-align: center; vertical-align: top\">credit_card</td>\n",
       "        <td style=\"padding-left: 1em; padding-right: 1em; text-align: center; vertical-align: top\"> 36 months</td>\n",
       "        <td style=\"padding-left: 1em; padding-right: 1em; text-align: center; vertical-align: top\">1</td>\n",
       "    </tr>\n",
       "    <tr>\n",
       "        <td style=\"padding-left: 1em; padding-right: 1em; text-align: center; vertical-align: top\">D</td>\n",
       "        <td style=\"padding-left: 1em; padding-right: 1em; text-align: center; vertical-align: top\">D1</td>\n",
       "        <td style=\"padding-left: 1em; padding-right: 1em; text-align: center; vertical-align: top\">0</td>\n",
       "        <td style=\"padding-left: 1em; padding-right: 1em; text-align: center; vertical-align: top\">10</td>\n",
       "        <td style=\"padding-left: 1em; padding-right: 1em; text-align: center; vertical-align: top\">RENT</td>\n",
       "        <td style=\"padding-left: 1em; padding-right: 1em; text-align: center; vertical-align: top\">16.85</td>\n",
       "        <td style=\"padding-left: 1em; padding-right: 1em; text-align: center; vertical-align: top\">debt_consolidation</td>\n",
       "        <td style=\"padding-left: 1em; padding-right: 1em; text-align: center; vertical-align: top\"> 36 months</td>\n",
       "        <td style=\"padding-left: 1em; padding-right: 1em; text-align: center; vertical-align: top\">1</td>\n",
       "    </tr>\n",
       "    <tr>\n",
       "        <td style=\"padding-left: 1em; padding-right: 1em; text-align: center; vertical-align: top\">D</td>\n",
       "        <td style=\"padding-left: 1em; padding-right: 1em; text-align: center; vertical-align: top\">D2</td>\n",
       "        <td style=\"padding-left: 1em; padding-right: 1em; text-align: center; vertical-align: top\">0</td>\n",
       "        <td style=\"padding-left: 1em; padding-right: 1em; text-align: center; vertical-align: top\">3</td>\n",
       "        <td style=\"padding-left: 1em; padding-right: 1em; text-align: center; vertical-align: top\">RENT</td>\n",
       "        <td style=\"padding-left: 1em; padding-right: 1em; text-align: center; vertical-align: top\">13.97</td>\n",
       "        <td style=\"padding-left: 1em; padding-right: 1em; text-align: center; vertical-align: top\">other</td>\n",
       "        <td style=\"padding-left: 1em; padding-right: 1em; text-align: center; vertical-align: top\"> 60 months</td>\n",
       "        <td style=\"padding-left: 1em; padding-right: 1em; text-align: center; vertical-align: top\">0</td>\n",
       "    </tr>\n",
       "    <tr>\n",
       "        <td style=\"padding-left: 1em; padding-right: 1em; text-align: center; vertical-align: top\">A</td>\n",
       "        <td style=\"padding-left: 1em; padding-right: 1em; text-align: center; vertical-align: top\">A5</td>\n",
       "        <td style=\"padding-left: 1em; padding-right: 1em; text-align: center; vertical-align: top\">0</td>\n",
       "        <td style=\"padding-left: 1em; padding-right: 1em; text-align: center; vertical-align: top\">11</td>\n",
       "        <td style=\"padding-left: 1em; padding-right: 1em; text-align: center; vertical-align: top\">MORTGAGE</td>\n",
       "        <td style=\"padding-left: 1em; padding-right: 1em; text-align: center; vertical-align: top\">16.33</td>\n",
       "        <td style=\"padding-left: 1em; padding-right: 1em; text-align: center; vertical-align: top\">debt_consolidation</td>\n",
       "        <td style=\"padding-left: 1em; padding-right: 1em; text-align: center; vertical-align: top\"> 36 months</td>\n",
       "        <td style=\"padding-left: 1em; padding-right: 1em; text-align: center; vertical-align: top\">1</td>\n",
       "    </tr>\n",
       "</table>\n",
       "<table frame=\"box\" rules=\"cols\">\n",
       "    <tr>\n",
       "        <th style=\"padding-left: 1em; padding-right: 1em; text-align: center\">last_major_derog_none</th>\n",
       "        <th style=\"padding-left: 1em; padding-right: 1em; text-align: center\">revol_util</th>\n",
       "        <th style=\"padding-left: 1em; padding-right: 1em; text-align: center\">total_rec_late_fee</th>\n",
       "        <th style=\"padding-left: 1em; padding-right: 1em; text-align: center\">safe_loans</th>\n",
       "    </tr>\n",
       "    <tr>\n",
       "        <td style=\"padding-left: 1em; padding-right: 1em; text-align: center; vertical-align: top\">1</td>\n",
       "        <td style=\"padding-left: 1em; padding-right: 1em; text-align: center; vertical-align: top\">82.4</td>\n",
       "        <td style=\"padding-left: 1em; padding-right: 1em; text-align: center; vertical-align: top\">0.0</td>\n",
       "        <td style=\"padding-left: 1em; padding-right: 1em; text-align: center; vertical-align: top\">1</td>\n",
       "    </tr>\n",
       "    <tr>\n",
       "        <td style=\"padding-left: 1em; padding-right: 1em; text-align: center; vertical-align: top\">1</td>\n",
       "        <td style=\"padding-left: 1em; padding-right: 1em; text-align: center; vertical-align: top\">96.4</td>\n",
       "        <td style=\"padding-left: 1em; padding-right: 1em; text-align: center; vertical-align: top\">0.0</td>\n",
       "        <td style=\"padding-left: 1em; padding-right: 1em; text-align: center; vertical-align: top\">1</td>\n",
       "    </tr>\n",
       "    <tr>\n",
       "        <td style=\"padding-left: 1em; padding-right: 1em; text-align: center; vertical-align: top\">1</td>\n",
       "        <td style=\"padding-left: 1em; padding-right: 1em; text-align: center; vertical-align: top\">59.5</td>\n",
       "        <td style=\"padding-left: 1em; padding-right: 1em; text-align: center; vertical-align: top\">0.0</td>\n",
       "        <td style=\"padding-left: 1em; padding-right: 1em; text-align: center; vertical-align: top\">-1</td>\n",
       "    </tr>\n",
       "    <tr>\n",
       "        <td style=\"padding-left: 1em; padding-right: 1em; text-align: center; vertical-align: top\">1</td>\n",
       "        <td style=\"padding-left: 1em; padding-right: 1em; text-align: center; vertical-align: top\">62.1</td>\n",
       "        <td style=\"padding-left: 1em; padding-right: 1em; text-align: center; vertical-align: top\">0.0</td>\n",
       "        <td style=\"padding-left: 1em; padding-right: 1em; text-align: center; vertical-align: top\">-1</td>\n",
       "    </tr>\n",
       "</table>\n",
       "[4 rows x 13 columns]<br/>\n",
       "</div>"
      ],
      "text/plain": [
       "Columns:\n",
       "\tgrade\tstr\n",
       "\tsub_grade\tstr\n",
       "\tshort_emp\tint\n",
       "\temp_length_num\tint\n",
       "\thome_ownership\tstr\n",
       "\tdti\tfloat\n",
       "\tpurpose\tstr\n",
       "\tterm\tstr\n",
       "\tlast_delinq_none\tint\n",
       "\tlast_major_derog_none\tint\n",
       "\trevol_util\tfloat\n",
       "\ttotal_rec_late_fee\tfloat\n",
       "\tsafe_loans\tint\n",
       "\n",
       "Rows: 4\n",
       "\n",
       "Data:\n",
       "+-------+-----------+-----------+----------------+----------------+-------+\n",
       "| grade | sub_grade | short_emp | emp_length_num | home_ownership |  dti  |\n",
       "+-------+-----------+-----------+----------------+----------------+-------+\n",
       "|   B   |     B3    |     0     |       11       |      OWN       | 11.18 |\n",
       "|   D   |     D1    |     0     |       10       |      RENT      | 16.85 |\n",
       "|   D   |     D2    |     0     |       3        |      RENT      | 13.97 |\n",
       "|   A   |     A5    |     0     |       11       |    MORTGAGE    | 16.33 |\n",
       "+-------+-----------+-----------+----------------+----------------+-------+\n",
       "+--------------------+------------+------------------+-----------------------+\n",
       "|      purpose       |    term    | last_delinq_none | last_major_derog_none |\n",
       "+--------------------+------------+------------------+-----------------------+\n",
       "|    credit_card     |  36 months |        1         |           1           |\n",
       "| debt_consolidation |  36 months |        1         |           1           |\n",
       "|       other        |  60 months |        0         |           1           |\n",
       "| debt_consolidation |  36 months |        1         |           1           |\n",
       "+--------------------+------------+------------------+-----------------------+\n",
       "+------------+--------------------+------------+\n",
       "| revol_util | total_rec_late_fee | safe_loans |\n",
       "+------------+--------------------+------------+\n",
       "|    82.4    |        0.0         |     1      |\n",
       "|    96.4    |        0.0         |     1      |\n",
       "|    59.5    |        0.0         |     -1     |\n",
       "|    62.1    |        0.0         |     -1     |\n",
       "+------------+--------------------+------------+\n",
       "[4 rows x 13 columns]"
      ]
     },
     "execution_count": 20,
     "metadata": {},
     "output_type": "execute_result"
    }
   ],
   "source": [
    "validation_safe_loans = validation_data[validation_data[target] == 1]\n",
    "validation_risky_loans = validation_data[validation_data[target] == -1]\n",
    "\n",
    "sample_validation_data_risky = validation_risky_loans[0:2]\n",
    "sample_validation_data_safe = validation_safe_loans[0:2]\n",
    "\n",
    "sample_validation_data = sample_validation_data_safe.append(sample_validation_data_risky)\n",
    "sample_validation_data"
   ]
  },
  {
   "cell_type": "markdown",
   "metadata": {},
   "source": [
    "## Explore label predictions"
   ]
  },
  {
   "cell_type": "markdown",
   "metadata": {},
   "source": [
    "Now, we will use our model  to predict whether or not a loan is likely to default. For each row in the **sample_validation_data**, use the **decision_tree_model** to predict whether or not the loan is classified as a **safe loan**. \n",
    "\n",
    "**Hint:** Be sure to use the `.predict()` method."
   ]
  },
  {
   "cell_type": "code",
   "execution_count": 32,
   "metadata": {
    "collapsed": false
   },
   "outputs": [
    {
     "data": {
      "text/plain": [
       "0.5"
      ]
     },
     "execution_count": 32,
     "metadata": {},
     "output_type": "execute_result"
    }
   ],
   "source": [
    "decision_tree_model_predict = decision_tree_model.predict(sample_validation_data)\n",
    "#Percentage of the predictions on sample_validation_data the small_model get correct\n",
    "sum(decision_tree_model_predict == sample_validation_data['safe_loans'])/float(len(sample_validation_data))"
   ]
  },
  {
   "cell_type": "markdown",
   "metadata": {},
   "source": [
    "**Quiz Question:** What percentage of the predictions on `sample_validation_data` did `decision_tree_model` get correct?"
   ]
  },
  {
   "cell_type": "markdown",
   "metadata": {},
   "source": [
    "## Explore probability predictions\n",
    "\n",
    "For each row in the **sample_validation_data**, what is the probability (according **decision_tree_model**) of a loan being classified as **safe**? \n",
    "\n",
    "\n",
    "**Hint:** Set `output_type='probability'` to make **probability** predictions using **decision_tree_model** on `sample_validation_data`:"
   ]
  },
  {
   "cell_type": "code",
   "execution_count": 33,
   "metadata": {
    "collapsed": false
   },
   "outputs": [
    {
     "data": {
      "text/plain": [
       "dtype: float\n",
       "Rows: 4\n",
       "[0.5242817997932434, 0.47226759791374207, 0.47226759791374207, 0.5798847675323486]"
      ]
     },
     "execution_count": 33,
     "metadata": {},
     "output_type": "execute_result"
    }
   ],
   "source": [
    "decision_tree_model_prob = decision_tree_model.predict(sample_validation_data, output_type='probability')\n",
    "small_model_predict_prob"
   ]
  },
  {
   "cell_type": "markdown",
   "metadata": {},
   "source": [
    "**Quiz Question:** Which loan has the highest probability of being classified as a **safe loan**?\n",
    "\n",
    "**Checkpoint:** Can you verify that for all the predictions with `probability >= 0.5`, the model predicted the label **+1**?"
   ]
  },
  {
   "cell_type": "code",
   "execution_count": 34,
   "metadata": {
    "collapsed": false
   },
   "outputs": [
    {
     "data": {
      "text/plain": [
       "dtype: int\n",
       "Rows: ?\n",
       "[1L, 1L, ... ]"
      ]
     },
     "execution_count": 34,
     "metadata": {},
     "output_type": "execute_result"
    }
   ],
   "source": [
    "decision_tree_model_predict[decision_tree_model_prob >= 0.5]"
   ]
  },
  {
   "cell_type": "markdown",
   "metadata": {},
   "source": [
    "### Tricky predictions!\n",
    "\n",
    "Now, we will explore something pretty interesting. For each row in the **sample_validation_data**, what is the probability (according to **small_model**) of a loan being classified as **safe**?\n",
    "\n",
    "**Hint:** Set `output_type='probability'` to make **probability** predictions using **small_model** on `sample_validation_data`:"
   ]
  },
  {
   "cell_type": "code",
   "execution_count": 36,
   "metadata": {
    "collapsed": false
   },
   "outputs": [
    {
     "data": {
      "text/plain": [
       "dtype: float\n",
       "Rows: 4\n",
       "[0.5242817997932434, 0.47226759791374207, 0.47226759791374207, 0.5798847675323486]"
      ]
     },
     "execution_count": 36,
     "metadata": {},
     "output_type": "execute_result"
    }
   ],
   "source": [
    "small_model_predict_probability = small_model.predict(sample_validation_data, output_type='probability')\n",
    "small_model_predict_probability"
   ]
  },
  {
   "cell_type": "markdown",
   "metadata": {},
   "source": [
    "**Quiz Question:** Notice that the probability preditions are the **exact same** for the 2nd and 3rd loans. Why would this happen?"
   ]
  },
  {
   "cell_type": "markdown",
   "metadata": {},
   "source": [
    "## Visualize the prediction on a tree\n",
    "\n",
    "\n",
    "Note that you should be able to look at the small tree, traverse it yourself, and visualize the prediction being made. Consider the following point in the **sample_validation_data**"
   ]
  },
  {
   "cell_type": "code",
   "execution_count": 37,
   "metadata": {
    "collapsed": false
   },
   "outputs": [
    {
     "data": {
      "text/plain": [
       "{'dti': 16.85,\n",
       " 'emp_length_num': 10L,\n",
       " 'grade': 'D',\n",
       " 'home_ownership': 'RENT',\n",
       " 'last_delinq_none': 1L,\n",
       " 'last_major_derog_none': 1L,\n",
       " 'purpose': 'debt_consolidation',\n",
       " 'revol_util': 96.4,\n",
       " 'safe_loans': 1L,\n",
       " 'short_emp': 0L,\n",
       " 'sub_grade': 'D1',\n",
       " 'term': ' 36 months',\n",
       " 'total_rec_late_fee': 0.0}"
      ]
     },
     "execution_count": 37,
     "metadata": {},
     "output_type": "execute_result"
    }
   ],
   "source": [
    "sample_validation_data[1]"
   ]
  },
  {
   "cell_type": "markdown",
   "metadata": {},
   "source": [
    "Let's visualize the small tree here to do the traversing for this data point."
   ]
  },
  {
   "cell_type": "code",
   "execution_count": 38,
   "metadata": {
    "collapsed": false
   },
   "outputs": [
    {
     "data": {
      "application/javascript": [
       "$(\"head\").append($(\"<link/>\").attr({\n",
       "  rel:  \"stylesheet\",\n",
       "  type: \"text/css\",\n",
       "  href: \"//cdnjs.cloudflare.com/ajax/libs/font-awesome/4.1.0/css/font-awesome.min.css\"\n",
       "}));\n",
       "$(\"head\").append($(\"<link/>\").attr({\n",
       "  rel:  \"stylesheet\",\n",
       "  type: \"text/css\",\n",
       "  href: \"//dato.com/files/canvas/1.8.5/css/canvas.css\"\n",
       "}));\n",
       "\n",
       "            (function(){\n",
       "\n",
       "                var e = null;\n",
       "                if (typeof element == 'undefined') {\n",
       "                    var scripts = document.getElementsByTagName('script');\n",
       "                    var thisScriptTag = scripts[scripts.length-1];\n",
       "                    var parentDiv = thisScriptTag.parentNode;\n",
       "                    e = document.createElement('div');\n",
       "                    parentDiv.appendChild(e);\n",
       "                } else {\n",
       "                    e = element[0];\n",
       "                }\n",
       "\n",
       "                if (typeof requirejs !== 'undefined') {\n",
       "                    // disable load timeout; ipython_app.js is large and can take a while to load.\n",
       "                    requirejs.config({waitSeconds: 0});\n",
       "                }\n",
       "\n",
       "                require(['//dato.com/files/canvas/1.8.5/js/ipython_app.js'], function(IPythonApp){\n",
       "                    var app = new IPythonApp();\n",
       "                    app.attachView('sgraph','View', {\"edges_labels\": [\"yes\", \"no\", \"yes\", \"no\", \"no\", \"yes\"], \"selected_variable\": {\"name\": [\"<SGraph>\"], \"view_file\": \"sgraph\", \"view_component\": \"View\", \"view_params\": {\"elabel_hover\": false, \"vertex_positions\": null, \"h_offset\": 0.0, \"node_size\": 300, \"ecolor\": [0.37, 0.33, 0.33], \"elabel\": \"value\", \"arrows\": true, \"ewidth\": 1, \"vlabel\": \"__repr__\", \"highlight_color\": [0.69, 0.0, 0.498], \"vcolor\": [0.522, 0.741, 0.0], \"vlabel_hover\": false, \"highlight\": {\"0\": [0.69, 0.0, 0.48], \"3\": [0.039, 0.55, 0.77], \"4\": [1.0, 0.33, 0.0], \"5\": [1.0, 0.33, 0.0], \"6\": [0.039, 0.55, 0.77]}, \"v_offset\": 0.03}, \"view_components\": [\"View\"], \"type\": \"SGraph\", \"descriptives_links\": {\"edges\": \"edges\", \"vertices\": \"vertices\"}, \"descriptives\": {\"edges\": 6, \"vertices\": 7}}, \"positions\": null, \"error_type\": 0, \"vertices\": [5, 0, 2, 6, 3, 1, 4], \"vertices_labels\": [\"0.3223\", \"grade=A\", \"total_rec_late_fee<14.83015\", \"-0.273469\", \"-0.111044\", \"grade=B\", \"0.097203\"], \"edges\": [[0, 2], [0, 1], [2, 5], [2, 6], [1, 3], [1, 4]], \"ipython\": true, \"error_msg\": \"\"}, e);\n",
       "                });\n",
       "            })();\n",
       "        "
      ]
     },
     "metadata": {},
     "output_type": "display_data"
    }
   ],
   "source": [
    "small_model.show(view=\"Tree\")"
   ]
  },
  {
   "cell_type": "markdown",
   "metadata": {},
   "source": [
    "**Note:** In the tree visualization above, the values at the leaf nodes are not class predictions but scores (a slightly advanced concept that is out of the scope of this course). You can read more about this [here](https://homes.cs.washington.edu/~tqchen/pdf/BoostedTree.pdf).  If the score is $\\geq$ 0, the class +1 is predicted.  Otherwise, if the score < 0, we predict class -1.\n",
    "\n",
    "\n",
    "**Quiz Question:** Based on the visualized tree, what prediction would you make for this data point?\n",
    "\n",
    "Now, let's verify your prediction by examining the prediction made using GraphLab Create.  Use the `.predict` function on `small_model`."
   ]
  },
  {
   "cell_type": "code",
   "execution_count": 41,
   "metadata": {
    "collapsed": false
   },
   "outputs": [
    {
     "data": {
      "text/plain": [
       "dtype: int\n",
       "Rows: 1\n",
       "[-1L]"
      ]
     },
     "execution_count": 41,
     "metadata": {},
     "output_type": "execute_result"
    }
   ],
   "source": [
    "small_model.predict(sample_validation_data[1])"
   ]
  },
  {
   "cell_type": "markdown",
   "metadata": {},
   "source": [
    "# Evaluating accuracy of the decision tree model"
   ]
  },
  {
   "cell_type": "markdown",
   "metadata": {},
   "source": [
    "Recall that the accuracy is defined as follows:\n",
    "$$\n",
    "\\mbox{accuracy} = \\frac{\\mbox{# correctly classified examples}}{\\mbox{# total examples}}\n",
    "$$\n",
    "\n",
    "Let us start by evaluating the accuracy of the `small_model` and `decision_tree_model` on the training data"
   ]
  },
  {
   "cell_type": "code",
   "execution_count": 42,
   "metadata": {
    "collapsed": false
   },
   "outputs": [
    {
     "name": "stdout",
     "output_type": "stream",
     "text": [
      "0.613502041694\n",
      "0.640581345369\n"
     ]
    }
   ],
   "source": [
    "print small_model.evaluate(train_data)['accuracy']\n",
    "print decision_tree_model.evaluate(train_data)['accuracy']"
   ]
  },
  {
   "cell_type": "markdown",
   "metadata": {},
   "source": [
    "**Checkpoint:** You should see that the **small_model** performs worse than the **decision_tree_model** on the training data.\n",
    "\n",
    "\n",
    "Now, let us evaluate the accuracy of the **small_model** and **decision_tree_model** on the entire **validation_data**, not just the subsample considered above."
   ]
  },
  {
   "cell_type": "code",
   "execution_count": 43,
   "metadata": {
    "collapsed": false
   },
   "outputs": [
    {
     "name": "stdout",
     "output_type": "stream",
     "text": [
      "0.619345109866\n",
      "0.636794485136\n"
     ]
    }
   ],
   "source": [
    "print small_model.evaluate(validation_data)['accuracy']\n",
    "print decision_tree_model.evaluate(validation_data)['accuracy']"
   ]
  },
  {
   "cell_type": "markdown",
   "metadata": {
    "collapsed": false
   },
   "source": [
    "**Quiz Question:** What is the accuracy of `decision_tree_model` on the validation set, rounded to the nearest .01?"
   ]
  },
  {
   "cell_type": "markdown",
   "metadata": {},
   "source": [
    "## Evaluating accuracy of a complex decision tree model\n",
    "\n",
    "Here, we will train a large decision tree with `max_depth=10`. This will allow the learned tree to become very deep, and result in a very complex model. Recall that in lecture, we prefer simpler models with similar predictive power. This will be an example of a more complicated model which has similar predictive power, i.e. something we don't want."
   ]
  },
  {
   "cell_type": "code",
   "execution_count": 44,
   "metadata": {
    "collapsed": false
   },
   "outputs": [
    {
     "data": {
      "text/html": [
       "<pre>Decision tree classifier:</pre>"
      ],
      "text/plain": [
       "Decision tree classifier:"
      ]
     },
     "metadata": {},
     "output_type": "display_data"
    },
    {
     "data": {
      "text/html": [
       "<pre>--------------------------------------------------------</pre>"
      ],
      "text/plain": [
       "--------------------------------------------------------"
      ]
     },
     "metadata": {},
     "output_type": "display_data"
    },
    {
     "data": {
      "text/html": [
       "<pre>Number of examples          : 37224</pre>"
      ],
      "text/plain": [
       "Number of examples          : 37224"
      ]
     },
     "metadata": {},
     "output_type": "display_data"
    },
    {
     "data": {
      "text/html": [
       "<pre>Number of classes           : 2</pre>"
      ],
      "text/plain": [
       "Number of classes           : 2"
      ]
     },
     "metadata": {},
     "output_type": "display_data"
    },
    {
     "data": {
      "text/html": [
       "<pre>Number of feature columns   : 12</pre>"
      ],
      "text/plain": [
       "Number of feature columns   : 12"
      ]
     },
     "metadata": {},
     "output_type": "display_data"
    },
    {
     "data": {
      "text/html": [
       "<pre>Number of unpacked features : 12</pre>"
      ],
      "text/plain": [
       "Number of unpacked features : 12"
      ]
     },
     "metadata": {},
     "output_type": "display_data"
    },
    {
     "data": {
      "text/html": [
       "<pre>+-----------+--------------+-------------------+-------------------+</pre>"
      ],
      "text/plain": [
       "+-----------+--------------+-------------------+-------------------+"
      ]
     },
     "metadata": {},
     "output_type": "display_data"
    },
    {
     "data": {
      "text/html": [
       "<pre>| Iteration | Elapsed Time | Training-accuracy | Training-log_loss |</pre>"
      ],
      "text/plain": [
       "| Iteration | Elapsed Time | Training-accuracy | Training-log_loss |"
      ]
     },
     "metadata": {},
     "output_type": "display_data"
    },
    {
     "data": {
      "text/html": [
       "<pre>+-----------+--------------+-------------------+-------------------+</pre>"
      ],
      "text/plain": [
       "+-----------+--------------+-------------------+-------------------+"
      ]
     },
     "metadata": {},
     "output_type": "display_data"
    },
    {
     "data": {
      "text/html": [
       "<pre>| 1         | 0.064009     | 0.665538          | 0.652730          |</pre>"
      ],
      "text/plain": [
       "| 1         | 0.064009     | 0.665538          | 0.652730          |"
      ]
     },
     "metadata": {},
     "output_type": "display_data"
    },
    {
     "data": {
      "text/html": [
       "<pre>+-----------+--------------+-------------------+-------------------+</pre>"
      ],
      "text/plain": [
       "+-----------+--------------+-------------------+-------------------+"
      ]
     },
     "metadata": {},
     "output_type": "display_data"
    }
   ],
   "source": [
    "big_model = graphlab.decision_tree_classifier.create(train_data, validation_set=None,\n",
    "                   target = target, features = features, max_depth = 10)"
   ]
  },
  {
   "cell_type": "markdown",
   "metadata": {},
   "source": [
    "Now, let us evaluate **big_model** on the training set and validation set."
   ]
  },
  {
   "cell_type": "code",
   "execution_count": 80,
   "metadata": {
    "collapsed": false
   },
   "outputs": [
    {
     "data": {
      "application/javascript": [
       "$(\"head\").append($(\"<link/>\").attr({\n",
       "  rel:  \"stylesheet\",\n",
       "  type: \"text/css\",\n",
       "  href: \"//cdnjs.cloudflare.com/ajax/libs/font-awesome/4.1.0/css/font-awesome.min.css\"\n",
       "}));\n",
       "$(\"head\").append($(\"<link/>\").attr({\n",
       "  rel:  \"stylesheet\",\n",
       "  type: \"text/css\",\n",
       "  href: \"//dato.com/files/canvas/1.8.5/css/canvas.css\"\n",
       "}));\n",
       "\n",
       "            (function(){\n",
       "\n",
       "                var e = null;\n",
       "                if (typeof element == 'undefined') {\n",
       "                    var scripts = document.getElementsByTagName('script');\n",
       "                    var thisScriptTag = scripts[scripts.length-1];\n",
       "                    var parentDiv = thisScriptTag.parentNode;\n",
       "                    e = document.createElement('div');\n",
       "                    parentDiv.appendChild(e);\n",
       "                } else {\n",
       "                    e = element[0];\n",
       "                }\n",
       "\n",
       "                if (typeof requirejs !== 'undefined') {\n",
       "                    // disable load timeout; ipython_app.js is large and can take a while to load.\n",
       "                    requirejs.config({waitSeconds: 0});\n",
       "                }\n",
       "\n",
       "                require(['//dato.com/files/canvas/1.8.5/js/ipython_app.js'], function(IPythonApp){\n",
       "                    var app = new IPythonApp();\n",
       "                    app.attachView('sgraph','View', {\"edges_labels\": [\"no\", \"no\", \"yes\", \"yes\", \"yes\", \"no\", \"no\", \"yes\", \"yes\", \"yes\", \"no\", \"yes\", \"no\", \"yes\", \"yes\", \"no\", \"yes\", \"no\", \"no\", \"no\", \"no\", \"no\", \"yes\", \"no\", \"yes\", \"no\", \"yes\", \"no\", \"yes\", \"yes\", \"no\", \"yes\", \"no\", \"no\", \"yes\", \"no\", \"no\", \"no\", \"no\", \"yes\", \"no\", \"yes\", \"yes\", \"no\", \"no\", \"no\", \"no\", \"yes\", \"no\", \"no\", \"yes\", \"yes\", \"yes\", \"yes\", \"no\", \"no\", \"yes\", \"yes\", \"no\", \"no\", \"yes\", \"no\", \"yes\", \"no\", \"yes\", \"no\", \"no\", \"no\", \"no\", \"yes\", \"no\", \"yes\", \"yes\", \"no\", \"no\", \"yes\", \"yes\", \"no\", \"yes\", \"yes\", \"yes\", \"no\", \"yes\", \"yes\", \"no\", \"yes\", \"no\", \"yes\", \"yes\", \"yes\", \"no\", \"yes\", \"yes\", \"yes\", \"no\", \"yes\", \"no\", \"yes\", \"yes\", \"yes\", \"no\", \"no\", \"no\", \"yes\", \"yes\", \"no\", \"yes\", \"yes\", \"no\", \"yes\", \"no\", \"no\", \"no\", \"no\", \"yes\", \"no\", \"no\", \"yes\", \"yes\", \"yes\", \"no\", \"no\", \"yes\", \"yes\", \"yes\", \"no\", \"no\", \"yes\", \"yes\", \"yes\", \"no\", \"no\", \"yes\", \"no\", \"no\", \"yes\", \"no\", \"yes\", \"yes\", \"no\", \"no\", \"no\", \"no\", \"yes\", \"yes\", \"no\", \"no\", \"no\", \"yes\", \"yes\", \"yes\", \"no\", \"yes\", \"yes\", \"no\", \"no\", \"yes\", \"no\", \"yes\", \"yes\", \"no\", \"no\", \"no\", \"yes\", \"yes\", \"yes\", \"yes\", \"no\", \"no\", \"yes\", \"yes\", \"no\", \"yes\", \"yes\", \"no\", \"yes\", \"no\", \"yes\", \"yes\", \"no\", \"no\", \"no\", \"yes\", \"no\", \"yes\", \"no\", \"no\", \"yes\", \"yes\", \"no\", \"yes\", \"yes\", \"no\", \"no\", \"yes\", \"no\", \"yes\", \"no\", \"no\", \"no\", \"yes\", \"yes\", \"yes\", \"yes\", \"yes\", \"yes\", \"no\", \"no\", \"no\", \"yes\", \"no\", \"yes\", \"yes\", \"yes\", \"yes\", \"yes\", \"no\", \"no\", \"no\", \"no\", \"no\", \"yes\", \"no\", \"no\", \"no\", \"no\", \"yes\", \"yes\", \"no\", \"yes\", \"yes\", \"no\", \"yes\", \"yes\", \"yes\", \"yes\", \"yes\", \"yes\", \"no\", \"no\", \"yes\", \"yes\", \"no\", \"no\", \"yes\", \"yes\", \"yes\", \"no\", \"yes\", \"yes\", \"no\", \"yes\", \"no\", \"no\", \"yes\", \"no\", \"yes\", \"yes\", \"yes\", \"no\", \"yes\", \"no\", \"no\", \"yes\", \"no\", \"yes\", \"no\", \"yes\", \"no\", \"no\", \"no\", \"no\", \"yes\", \"no\", \"yes\", \"yes\", \"no\", \"no\", \"no\", \"no\", \"yes\", \"no\", \"no\", \"yes\", \"yes\", \"no\", \"yes\", \"no\", \"no\", \"no\", \"yes\", \"yes\", \"no\", \"yes\", \"yes\", \"no\", \"yes\", \"no\", \"yes\", \"yes\", \"no\", \"yes\", \"no\", \"no\", \"no\", \"no\", \"yes\", \"no\", \"no\", \"no\", \"yes\", \"yes\", \"no\", \"no\", \"no\", \"no\", \"no\", \"no\", \"yes\", \"yes\", \"yes\", \"yes\", \"no\", \"no\", \"yes\", \"yes\", \"yes\", \"no\", \"yes\", \"yes\", \"no\", \"no\", \"yes\", \"no\", \"yes\", \"no\", \"yes\", \"no\", \"yes\", \"no\", \"yes\", \"no\", \"yes\", \"no\", \"no\", \"yes\", \"no\", \"yes\", \"no\", \"yes\", \"yes\", \"no\", \"no\", \"no\", \"no\", \"yes\", \"no\", \"yes\", \"yes\", \"no\", \"no\", \"yes\", \"no\", \"no\", \"yes\", \"no\", \"no\", \"yes\", \"yes\", \"no\", \"no\", \"yes\", \"yes\", \"yes\", \"yes\", \"yes\", \"yes\", \"yes\", \"yes\", \"no\", \"no\", \"yes\", \"yes\", \"yes\", \"yes\", \"yes\", \"no\", \"yes\", \"no\", \"no\", \"yes\", \"yes\", \"no\", \"yes\", \"yes\", \"yes\", \"no\", \"yes\", \"no\", \"no\", \"no\", \"yes\", \"no\", \"yes\", \"no\", \"no\", \"no\", \"yes\", \"no\", \"no\", \"yes\", \"no\", \"no\", \"yes\", \"yes\", \"yes\", \"no\", \"no\", \"yes\", \"yes\", \"yes\", \"yes\", \"no\", \"yes\", \"yes\", \"no\", \"no\", \"yes\", \"no\", \"yes\", \"yes\", \"no\", \"no\", \"yes\", \"no\", \"no\", \"no\", \"no\", \"yes\", \"yes\", \"yes\", \"no\", \"yes\", \"no\", \"yes\", \"no\", \"yes\", \"yes\", \"yes\", \"no\", \"no\", \"yes\", \"yes\", \"no\", \"yes\", \"no\", \"yes\", \"no\", \"yes\", \"yes\", \"no\", \"no\", \"no\", \"no\", \"yes\", \"yes\", \"yes\", \"yes\", \"no\", \"no\", \"yes\", \"yes\", \"no\", \"yes\", \"yes\", \"yes\", \"no\", \"no\", \"no\", \"yes\", \"yes\", \"yes\", \"yes\", \"yes\", \"yes\", \"no\", \"no\", \"no\", \"no\", \"yes\", \"no\", \"yes\", \"yes\", \"no\", \"yes\", \"no\", \"no\", \"no\", \"yes\", \"yes\", \"no\", \"no\", \"yes\", \"yes\", \"yes\", \"yes\", \"no\", \"no\", \"no\", \"yes\", \"no\", \"yes\", \"no\", \"no\", \"no\", \"no\", \"yes\", \"yes\", \"yes\", \"yes\", \"no\", \"no\", \"no\", \"no\", \"no\", \"no\", \"no\", \"yes\", \"no\", \"no\", \"yes\", \"no\", \"no\", \"yes\", \"no\", \"yes\", \"no\", \"no\", \"yes\", \"no\", \"yes\", \"yes\", \"no\", \"yes\", \"no\", \"no\", \"no\", \"no\", \"yes\", \"no\", \"no\", \"no\", \"yes\", \"no\", \"yes\", \"no\", \"no\", \"no\", \"yes\", \"yes\", \"yes\", \"yes\", \"no\", \"yes\", \"no\", \"no\", \"yes\", \"no\", \"yes\", \"no\", \"no\", \"no\", \"no\", \"no\", \"no\", \"yes\", \"no\", \"no\", \"yes\", \"no\", \"no\", \"yes\", \"yes\", \"yes\", \"yes\", \"no\", \"yes\", \"no\", \"yes\", \"yes\", \"yes\", \"no\", \"no\", \"no\", \"yes\", \"yes\", \"no\", \"no\", \"yes\", \"no\", \"yes\", \"yes\", \"yes\", \"yes\", \"yes\", \"no\", \"yes\", \"yes\", \"yes\", \"yes\", \"no\", \"no\", \"yes\", \"no\", \"yes\", \"yes\", \"no\", \"no\", \"yes\", \"no\", \"yes\", \"yes\", \"no\", \"yes\", \"no\", \"yes\", \"yes\", \"no\", \"yes\", \"yes\", \"no\", \"yes\", \"yes\", \"no\", \"yes\", \"yes\", \"no\", \"no\", \"yes\", \"no\", \"no\", \"no\", \"yes\", \"yes\", \"yes\", \"no\", \"no\", \"no\", \"no\", \"yes\", \"no\", \"no\", \"yes\", \"yes\", \"yes\", \"yes\", \"yes\", \"no\", \"yes\", \"yes\", \"yes\", \"no\", \"yes\", \"no\", \"yes\", \"yes\", \"yes\", \"yes\", \"no\", \"yes\", \"no\", \"yes\", \"no\", \"yes\", \"yes\", \"no\", \"yes\", \"yes\", \"yes\", \"yes\", \"no\", \"yes\", \"no\", \"no\", \"yes\", \"yes\", \"no\", \"yes\", \"yes\", \"yes\", \"yes\", \"no\", \"no\", \"yes\", \"no\", \"no\", \"no\", \"yes\", \"no\", \"no\", \"no\", \"yes\", \"yes\", \"no\", \"no\", \"yes\", \"yes\", \"yes\", \"no\", \"no\", \"yes\", \"no\", \"yes\", \"no\", \"no\", \"no\", \"yes\", \"no\", \"yes\", \"yes\", \"no\", \"no\", \"yes\", \"no\", \"no\", \"no\", \"yes\", \"yes\", \"yes\", \"no\", \"no\", \"no\", \"no\", \"no\", \"no\", \"yes\", \"no\", \"no\", \"yes\", \"yes\", \"no\", \"yes\", \"no\", \"no\", \"yes\", \"yes\", \"no\", \"yes\", \"yes\", \"yes\", \"yes\", \"no\", \"yes\", \"no\", \"yes\", \"no\", \"no\", \"no\", \"yes\", \"yes\", \"no\", \"no\", \"no\", \"no\", \"yes\", \"yes\", \"no\", \"yes\", \"yes\", \"yes\", \"no\", \"yes\", \"yes\", \"no\", \"yes\", \"no\", \"no\", \"yes\", \"no\", \"yes\", \"no\", \"yes\", \"no\", \"yes\", \"no\", \"no\", \"yes\", \"yes\", \"no\", \"yes\", \"yes\", \"yes\", \"yes\", \"no\", \"yes\", \"no\", \"yes\", \"no\", \"no\", \"no\", \"no\", \"yes\", \"no\", \"yes\", \"yes\", \"no\", \"yes\", \"yes\", \"no\", \"no\", \"yes\", \"yes\", \"no\", \"no\", \"no\", \"yes\", \"no\", \"no\", \"no\", \"yes\", \"yes\", \"yes\", \"no\", \"no\", \"no\", \"no\", \"no\", \"no\", \"yes\", \"no\", \"yes\", \"no\", \"no\", \"yes\", \"no\", \"yes\", \"yes\", \"no\", \"yes\", \"yes\", \"no\", \"yes\", \"yes\", \"no\", \"no\", \"no\", \"no\", \"yes\", \"no\", \"yes\", \"yes\", \"yes\", \"no\", \"no\", \"yes\", \"yes\", \"no\", \"yes\"], \"selected_variable\": {\"name\": [\"<SGraph>\"], \"view_file\": \"sgraph\", \"view_component\": \"View\", \"view_params\": {\"elabel_hover\": false, \"vertex_positions\": null, \"h_offset\": 0.0, \"node_size\": 300, \"ecolor\": [0.37, 0.33, 0.33], \"elabel\": \"value\", \"arrows\": true, \"ewidth\": 1, \"vlabel\": \"__repr__\", \"highlight_color\": [0.69, 0.0, 0.498], \"vcolor\": [0.522, 0.741, 0.0], \"vlabel_hover\": false, \"highlight\": {\"0\": [0.69, 0.0, 0.48], \"21\": [1.0, 0.33, 0.0], \"38\": [1.0, 0.33, 0.0], \"44\": [1.0, 0.33, 0.0], \"48\": [0.039, 0.55, 0.77], \"50\": [0.039, 0.55, 0.77], \"55\": [1.0, 0.33, 0.0], \"73\": [0.039, 0.55, 0.77], \"97\": [0.039, 0.55, 0.77], \"98\": [1.0, 0.33, 0.0], \"100\": [1.0, 0.33, 0.0], \"101\": [0.039, 0.55, 0.77], \"102\": [1.0, 0.33, 0.0], \"105\": [0.039, 0.55, 0.77], \"106\": [1.0, 0.33, 0.0], \"108\": [1.0, 0.33, 0.0], \"109\": [1.0, 0.33, 0.0], \"110\": [0.039, 0.55, 0.77], \"132\": [1.0, 0.33, 0.0], \"133\": [1.0, 0.33, 0.0], \"134\": [0.039, 0.55, 0.77], \"135\": [1.0, 0.33, 0.0], \"136\": [0.039, 0.55, 0.77], \"167\": [0.039, 0.55, 0.77], \"180\": [0.039, 0.55, 0.77], \"182\": [0.039, 0.55, 0.77], \"183\": [0.039, 0.55, 0.77], \"184\": [1.0, 0.33, 0.0], \"185\": [1.0, 0.33, 0.0], \"186\": [0.039, 0.55, 0.77], \"216\": [1.0, 0.33, 0.0], \"225\": [1.0, 0.33, 0.0], \"226\": [0.039, 0.55, 0.77], \"237\": [1.0, 0.33, 0.0], \"244\": [1.0, 0.33, 0.0], \"248\": [0.039, 0.55, 0.77], \"251\": [1.0, 0.33, 0.0], \"256\": [0.039, 0.55, 0.77], \"259\": [0.039, 0.55, 0.77], \"260\": [1.0, 0.33, 0.0], \"263\": [1.0, 0.33, 0.0], \"269\": [1.0, 0.33, 0.0], \"270\": [0.039, 0.55, 0.77], \"276\": [0.039, 0.55, 0.77], \"281\": [0.039, 0.55, 0.77], \"287\": [0.039, 0.55, 0.77], \"290\": [0.039, 0.55, 0.77], \"297\": [1.0, 0.33, 0.0], \"299\": [1.0, 0.33, 0.0], \"300\": [0.039, 0.55, 0.77], \"304\": [1.0, 0.33, 0.0], \"307\": [0.039, 0.55, 0.77], \"315\": [1.0, 0.33, 0.0], \"316\": [0.039, 0.55, 0.77], \"320\": [0.039, 0.55, 0.77], \"351\": [1.0, 0.33, 0.0], \"352\": [0.039, 0.55, 0.77], \"356\": [0.039, 0.55, 0.77], \"362\": [1.0, 0.33, 0.0], \"363\": [1.0, 0.33, 0.0], \"366\": [1.0, 0.33, 0.0], \"377\": [0.039, 0.55, 0.77], \"382\": [1.0, 0.33, 0.0], \"384\": [1.0, 0.33, 0.0], \"386\": [1.0, 0.33, 0.0], \"389\": [1.0, 0.33, 0.0], \"390\": [0.039, 0.55, 0.77], \"392\": [0.039, 0.55, 0.77], \"397\": [0.039, 0.55, 0.77], \"398\": [1.0, 0.33, 0.0], \"419\": [0.039, 0.55, 0.77], \"421\": [0.039, 0.55, 0.77], \"423\": [0.039, 0.55, 0.77], \"425\": [1.0, 0.33, 0.0], \"426\": [0.039, 0.55, 0.77], \"433\": [0.039, 0.55, 0.77], \"443\": [0.039, 0.55, 0.77], \"450\": [1.0, 0.33, 0.0], \"451\": [0.039, 0.55, 0.77], \"458\": [0.039, 0.55, 0.77], \"462\": [1.0, 0.33, 0.0], \"464\": [1.0, 0.33, 0.0], \"468\": [0.039, 0.55, 0.77], \"470\": [0.039, 0.55, 0.77], \"471\": [0.039, 0.55, 0.77], \"472\": [1.0, 0.33, 0.0], \"476\": [0.039, 0.55, 0.77], \"481\": [0.039, 0.55, 0.77], \"483\": [0.039, 0.55, 0.77], \"487\": [1.0, 0.33, 0.0], \"491\": [1.0, 0.33, 0.0], \"495\": [1.0, 0.33, 0.0], \"497\": [0.039, 0.55, 0.77], \"498\": [1.0, 0.33, 0.0], \"501\": [1.0, 0.33, 0.0], \"504\": [1.0, 0.33, 0.0], \"505\": [0.039, 0.55, 0.77], \"506\": [1.0, 0.33, 0.0], \"510\": [0.039, 0.55, 0.77], \"512\": [0.039, 0.55, 0.77], \"517\": [0.039, 0.55, 0.77], \"522\": [0.039, 0.55, 0.77], \"525\": [1.0, 0.33, 0.0], \"527\": [1.0, 0.33, 0.0], \"528\": [0.039, 0.55, 0.77], \"533\": [1.0, 0.33, 0.0], \"534\": [0.039, 0.55, 0.77], \"535\": [0.039, 0.55, 0.77], \"536\": [1.0, 0.33, 0.0], \"537\": [1.0, 0.33, 0.0], \"538\": [0.039, 0.55, 0.77], \"539\": [0.039, 0.55, 0.77], \"540\": [1.0, 0.33, 0.0], \"541\": [1.0, 0.33, 0.0], \"542\": [0.039, 0.55, 0.77], \"543\": [0.039, 0.55, 0.77], \"544\": [1.0, 0.33, 0.0], \"545\": [0.039, 0.55, 0.77], \"546\": [0.039, 0.55, 0.77], \"547\": [1.0, 0.33, 0.0], \"548\": [1.0, 0.33, 0.0], \"549\": [0.039, 0.55, 0.77], \"550\": [1.0, 0.33, 0.0], \"551\": [0.039, 0.55, 0.77], \"552\": [0.039, 0.55, 0.77], \"553\": [0.039, 0.55, 0.77], \"554\": [0.039, 0.55, 0.77], \"555\": [0.039, 0.55, 0.77], \"556\": [1.0, 0.33, 0.0], \"557\": [1.0, 0.33, 0.0], \"558\": [1.0, 0.33, 0.0], \"559\": [0.039, 0.55, 0.77], \"560\": [0.039, 0.55, 0.77], \"561\": [0.039, 0.55, 0.77], \"562\": [0.039, 0.55, 0.77], \"563\": [0.039, 0.55, 0.77], \"564\": [0.039, 0.55, 0.77], \"565\": [0.039, 0.55, 0.77], \"566\": [0.039, 0.55, 0.77], \"567\": [0.039, 0.55, 0.77], \"568\": [0.039, 0.55, 0.77], \"569\": [0.039, 0.55, 0.77], \"570\": [1.0, 0.33, 0.0], \"571\": [0.039, 0.55, 0.77], \"572\": [0.039, 0.55, 0.77], \"573\": [1.0, 0.33, 0.0], \"574\": [0.039, 0.55, 0.77], \"575\": [0.039, 0.55, 0.77], \"576\": [0.039, 0.55, 0.77], \"577\": [1.0, 0.33, 0.0], \"578\": [0.039, 0.55, 0.77], \"579\": [0.039, 0.55, 0.77], \"580\": [0.039, 0.55, 0.77], \"581\": [1.0, 0.33, 0.0], \"582\": [0.039, 0.55, 0.77], \"583\": [0.039, 0.55, 0.77], \"584\": [0.039, 0.55, 0.77], \"585\": [0.039, 0.55, 0.77], \"586\": [1.0, 0.33, 0.0], \"587\": [1.0, 0.33, 0.0], \"588\": [0.039, 0.55, 0.77], \"589\": [1.0, 0.33, 0.0], \"590\": [0.039, 0.55, 0.77], \"591\": [0.039, 0.55, 0.77], \"592\": [1.0, 0.33, 0.0], \"593\": [0.039, 0.55, 0.77], \"594\": [0.039, 0.55, 0.77], \"595\": [1.0, 0.33, 0.0], \"596\": [1.0, 0.33, 0.0], \"597\": [1.0, 0.33, 0.0], \"598\": [0.039, 0.55, 0.77], \"599\": [1.0, 0.33, 0.0], \"600\": [0.039, 0.55, 0.77], \"601\": [1.0, 0.33, 0.0], \"602\": [1.0, 0.33, 0.0], \"603\": [0.039, 0.55, 0.77], \"604\": [0.039, 0.55, 0.77], \"605\": [1.0, 0.33, 0.0], \"606\": [1.0, 0.33, 0.0], \"607\": [1.0, 0.33, 0.0], \"608\": [0.039, 0.55, 0.77], \"609\": [1.0, 0.33, 0.0], \"610\": [0.039, 0.55, 0.77], \"611\": [0.039, 0.55, 0.77], \"612\": [1.0, 0.33, 0.0], \"613\": [1.0, 0.33, 0.0], \"614\": [0.039, 0.55, 0.77], \"615\": [1.0, 0.33, 0.0], \"616\": [0.039, 0.55, 0.77], \"617\": [1.0, 0.33, 0.0], \"618\": [0.039, 0.55, 0.77], \"619\": [0.039, 0.55, 0.77], \"620\": [1.0, 0.33, 0.0], \"621\": [1.0, 0.33, 0.0], \"622\": [0.039, 0.55, 0.77], \"623\": [0.039, 0.55, 0.77], \"624\": [0.039, 0.55, 0.77], \"625\": [0.039, 0.55, 0.77], \"626\": [1.0, 0.33, 0.0], \"627\": [1.0, 0.33, 0.0], \"628\": [0.039, 0.55, 0.77], \"629\": [1.0, 0.33, 0.0], \"630\": [0.039, 0.55, 0.77], \"631\": [1.0, 0.33, 0.0], \"632\": [0.039, 0.55, 0.77], \"633\": [1.0, 0.33, 0.0], \"634\": [0.039, 0.55, 0.77], \"635\": [1.0, 0.33, 0.0], \"636\": [1.0, 0.33, 0.0], \"637\": [0.039, 0.55, 0.77], \"638\": [0.039, 0.55, 0.77], \"639\": [1.0, 0.33, 0.0], \"640\": [0.039, 0.55, 0.77], \"641\": [0.039, 0.55, 0.77], \"642\": [0.039, 0.55, 0.77], \"643\": [0.039, 0.55, 0.77], \"644\": [1.0, 0.33, 0.0], \"645\": [1.0, 0.33, 0.0], \"646\": [0.039, 0.55, 0.77], \"647\": [0.039, 0.55, 0.77], \"648\": [1.0, 0.33, 0.0], \"649\": [0.039, 0.55, 0.77], \"650\": [0.039, 0.55, 0.77], \"651\": [1.0, 0.33, 0.0], \"652\": [0.039, 0.55, 0.77], \"653\": [0.039, 0.55, 0.77], \"654\": [1.0, 0.33, 0.0], \"655\": [0.039, 0.55, 0.77], \"656\": [1.0, 0.33, 0.0], \"657\": [0.039, 0.55, 0.77], \"658\": [0.039, 0.55, 0.77], \"659\": [1.0, 0.33, 0.0], \"660\": [0.039, 0.55, 0.77], \"661\": [1.0, 0.33, 0.0], \"662\": [1.0, 0.33, 0.0], \"663\": [1.0, 0.33, 0.0], \"664\": [1.0, 0.33, 0.0], \"665\": [1.0, 0.33, 0.0], \"666\": [1.0, 0.33, 0.0], \"667\": [1.0, 0.33, 0.0], \"668\": [1.0, 0.33, 0.0], \"669\": [1.0, 0.33, 0.0], \"670\": [0.039, 0.55, 0.77], \"671\": [1.0, 0.33, 0.0], \"672\": [1.0, 0.33, 0.0], \"673\": [0.039, 0.55, 0.77], \"674\": [1.0, 0.33, 0.0], \"675\": [1.0, 0.33, 0.0], \"676\": [0.039, 0.55, 0.77], \"677\": [0.039, 0.55, 0.77], \"678\": [1.0, 0.33, 0.0], \"679\": [1.0, 0.33, 0.0], \"680\": [0.039, 0.55, 0.77], \"681\": [0.039, 0.55, 0.77], \"682\": [1.0, 0.33, 0.0], \"683\": [0.039, 0.55, 0.77], \"684\": [1.0, 0.33, 0.0], \"685\": [1.0, 0.33, 0.0], \"686\": [0.039, 0.55, 0.77], \"687\": [1.0, 0.33, 0.0], \"688\": [0.039, 0.55, 0.77], \"689\": [0.039, 0.55, 0.77], \"690\": [1.0, 0.33, 0.0], \"691\": [1.0, 0.33, 0.0], \"692\": [0.039, 0.55, 0.77], \"693\": [0.039, 0.55, 0.77], \"694\": [1.0, 0.33, 0.0], \"695\": [0.039, 0.55, 0.77], \"696\": [1.0, 0.33, 0.0], \"697\": [1.0, 0.33, 0.0], \"698\": [0.039, 0.55, 0.77], \"699\": [0.039, 0.55, 0.77], \"700\": [1.0, 0.33, 0.0], \"701\": [1.0, 0.33, 0.0], \"702\": [0.039, 0.55, 0.77], \"703\": [0.039, 0.55, 0.77], \"704\": [1.0, 0.33, 0.0], \"705\": [1.0, 0.33, 0.0], \"706\": [0.039, 0.55, 0.77], \"707\": [0.039, 0.55, 0.77], \"708\": [1.0, 0.33, 0.0], \"709\": [1.0, 0.33, 0.0], \"710\": [0.039, 0.55, 0.77], \"711\": [1.0, 0.33, 0.0], \"712\": [1.0, 0.33, 0.0], \"713\": [1.0, 0.33, 0.0], \"714\": [1.0, 0.33, 0.0], \"715\": [1.0, 0.33, 0.0], \"716\": [0.039, 0.55, 0.77], \"717\": [1.0, 0.33, 0.0], \"718\": [0.039, 0.55, 0.77], \"719\": [1.0, 0.33, 0.0], \"720\": [1.0, 0.33, 0.0], \"721\": [0.039, 0.55, 0.77], \"722\": [1.0, 0.33, 0.0], \"723\": [0.039, 0.55, 0.77], \"724\": [1.0, 0.33, 0.0], \"725\": [1.0, 0.33, 0.0], \"726\": [0.039, 0.55, 0.77], \"727\": [0.039, 0.55, 0.77], \"728\": [1.0, 0.33, 0.0], \"729\": [0.039, 0.55, 0.77], \"730\": [1.0, 0.33, 0.0], \"731\": [1.0, 0.33, 0.0], \"732\": [1.0, 0.33, 0.0], \"733\": [1.0, 0.33, 0.0], \"734\": [0.039, 0.55, 0.77], \"735\": [0.039, 0.55, 0.77], \"736\": [1.0, 0.33, 0.0], \"737\": [0.039, 0.55, 0.77], \"738\": [1.0, 0.33, 0.0], \"739\": [1.0, 0.33, 0.0], \"740\": [0.039, 0.55, 0.77], \"741\": [0.039, 0.55, 0.77], \"742\": [0.039, 0.55, 0.77], \"743\": [0.039, 0.55, 0.77], \"744\": [1.0, 0.33, 0.0], \"745\": [0.039, 0.55, 0.77], \"746\": [1.0, 0.33, 0.0], \"747\": [0.039, 0.55, 0.77], \"748\": [0.039, 0.55, 0.77], \"749\": [0.039, 0.55, 0.77], \"750\": [1.0, 0.33, 0.0], \"751\": [1.0, 0.33, 0.0], \"752\": [0.039, 0.55, 0.77], \"753\": [1.0, 0.33, 0.0], \"754\": [0.039, 0.55, 0.77], \"755\": [0.039, 0.55, 0.77], \"756\": [1.0, 0.33, 0.0], \"757\": [1.0, 0.33, 0.0], \"758\": [0.039, 0.55, 0.77], \"759\": [1.0, 0.33, 0.0], \"760\": [0.039, 0.55, 0.77], \"761\": [1.0, 0.33, 0.0], \"762\": [1.0, 0.33, 0.0], \"763\": [1.0, 0.33, 0.0], \"764\": [1.0, 0.33, 0.0], \"765\": [1.0, 0.33, 0.0], \"766\": [0.039, 0.55, 0.77], \"767\": [1.0, 0.33, 0.0], \"768\": [0.039, 0.55, 0.77], \"769\": [1.0, 0.33, 0.0], \"770\": [1.0, 0.33, 0.0], \"771\": [1.0, 0.33, 0.0], \"772\": [1.0, 0.33, 0.0], \"773\": [1.0, 0.33, 0.0], \"774\": [1.0, 0.33, 0.0], \"775\": [0.039, 0.55, 0.77], \"776\": [1.0, 0.33, 0.0], \"777\": [1.0, 0.33, 0.0], \"778\": [0.039, 0.55, 0.77], \"779\": [1.0, 0.33, 0.0], \"780\": [1.0, 0.33, 0.0], \"781\": [1.0, 0.33, 0.0], \"782\": [1.0, 0.33, 0.0], \"783\": [1.0, 0.33, 0.0], \"784\": [0.039, 0.55, 0.77], \"785\": [1.0, 0.33, 0.0], \"786\": [1.0, 0.33, 0.0], \"787\": [0.039, 0.55, 0.77], \"788\": [1.0, 0.33, 0.0], \"789\": [1.0, 0.33, 0.0], \"790\": [0.039, 0.55, 0.77], \"791\": [0.039, 0.55, 0.77], \"792\": [1.0, 0.33, 0.0], \"793\": [1.0, 0.33, 0.0], \"794\": [0.039, 0.55, 0.77], \"795\": [0.039, 0.55, 0.77], \"796\": [1.0, 0.33, 0.0], \"797\": [1.0, 0.33, 0.0], \"798\": [0.039, 0.55, 0.77], \"799\": [0.039, 0.55, 0.77], \"800\": [1.0, 0.33, 0.0], \"801\": [0.039, 0.55, 0.77], \"802\": [1.0, 0.33, 0.0], \"803\": [0.039, 0.55, 0.77], \"804\": [1.0, 0.33, 0.0], \"805\": [1.0, 0.33, 0.0], \"806\": [0.039, 0.55, 0.77], \"807\": [0.039, 0.55, 0.77], \"808\": [1.0, 0.33, 0.0], \"809\": [1.0, 0.33, 0.0], \"810\": [0.039, 0.55, 0.77], \"811\": [0.039, 0.55, 0.77], \"812\": [1.0, 0.33, 0.0], \"813\": [0.039, 0.55, 0.77], \"814\": [0.039, 0.55, 0.77], \"815\": [0.039, 0.55, 0.77], \"816\": [1.0, 0.33, 0.0], \"817\": [1.0, 0.33, 0.0], \"818\": [0.039, 0.55, 0.77], \"819\": [0.039, 0.55, 0.77], \"820\": [1.0, 0.33, 0.0], \"821\": [1.0, 0.33, 0.0], \"822\": [1.0, 0.33, 0.0], \"823\": [0.039, 0.55, 0.77], \"824\": [1.0, 0.33, 0.0], \"825\": [0.039, 0.55, 0.77], \"826\": [1.0, 0.33, 0.0], \"827\": [1.0, 0.33, 0.0], \"828\": [1.0, 0.33, 0.0], \"829\": [0.039, 0.55, 0.77], \"830\": [0.039, 0.55, 0.77], \"831\": [0.039, 0.55, 0.77], \"832\": [1.0, 0.33, 0.0], \"833\": [0.039, 0.55, 0.77], \"834\": [1.0, 0.33, 0.0], \"835\": [1.0, 0.33, 0.0], \"836\": [1.0, 0.33, 0.0], \"837\": [1.0, 0.33, 0.0], \"838\": [1.0, 0.33, 0.0], \"839\": [0.039, 0.55, 0.77], \"840\": [1.0, 0.33, 0.0], \"841\": [1.0, 0.33, 0.0], \"842\": [0.039, 0.55, 0.77], \"843\": [1.0, 0.33, 0.0], \"844\": [0.039, 0.55, 0.77], \"845\": [1.0, 0.33, 0.0], \"846\": [0.039, 0.55, 0.77], \"847\": [1.0, 0.33, 0.0], \"848\": [0.039, 0.55, 0.77], \"849\": [0.039, 0.55, 0.77], \"850\": [1.0, 0.33, 0.0], \"851\": [0.039, 0.55, 0.77], \"852\": [0.039, 0.55, 0.77], \"853\": [0.039, 0.55, 0.77], \"854\": [1.0, 0.33, 0.0], \"855\": [0.039, 0.55, 0.77], \"856\": [0.039, 0.55, 0.77], \"857\": [0.039, 0.55, 0.77], \"858\": [1.0, 0.33, 0.0]}, \"v_offset\": 0.03}, \"view_components\": [\"View\"], \"type\": \"SGraph\", \"descriptives_links\": {\"edges\": \"edges\", \"vertices\": \"vertices\"}, \"descriptives\": {\"edges\": 858, \"vertices\": 859}}, \"positions\": null, \"error_type\": 0, \"vertices\": [110, 858, 855, 853, 704, 413, 136, 658, 718, 480, 700, 394, 741, 721, 391, 155, 70, 396, 287, 637, 790, 415, 8, 115, 595, 419, 133, 336, 660, 438, 47, 196, 793, 836, 436, 744, 553, 73, 113, 33, 331, 765, 615, 215, 532, 681, 576, 68, 746, 550, 350, 459, 218, 618, 856, 376, 678, 513, 555, 7, 238, 723, 816, 175, 441, 743, 10, 655, 482, 476, 454, 268, 5, 291, 504, 771, 773, 776, 373, 87, 478, 795, 457, 499, 813, 574, 501, 763, 92, 818, 313, 417, 29, 27, 50, 354, 834, 52, 310, 178, 241, 96, 109, 320, 107, 30, 529, 420, 407, 49, 666, 36, 642, 367, 686, 76, 162, 362, 400, 671, 334, 235, 191, 798, 558, 488, 697, 16, 752, 193, 644, 158, 631, 624, 547, 475, 549, 726, 796, 664, 538, 715, 325, 89, 244, 802, 58, 807, 829, 34, 800, 402, 589, 65, 833, 422, 684, 189, 67, 63, 360, 204, 724, 543, 569, 571, 516, 847, 347, 393, 118, 598, 433, 757, 149, 442, 444, 717, 21, 265, 451, 453, 23, 460, 766, 502, 462, 274, 774, 473, 202, 495, 675, 167, 840, 493, 294, 824, 307, 56, 787, 842, 316, 184, 105, 186, 845, 523, 408, 673, 405, 78, 233, 826, 518, 228, 648, 626, 468, 18, 805, 632, 43, 623, 106, 753, 37, 124, 546, 542, 208, 259, 322, 808, 103, 61, 345, 541, 40, 62, 586, 15, 365, 564, 428, 645, 251, 608, 0, 123, 563, 583, 368, 145, 168, 340, 305, 669, 383, 490, 318, 545, 183, 489, 227, 205, 585, 629, 206, 359, 252, 691, 692, 246, 646, 427, 146, 731, 825, 732, 708, 165, 736, 449, 321, 260, 143, 277, 445, 83, 450, 751, 754, 467, 278, 780, 300, 280, 38, 487, 604, 166, 848, 713, 299, 384, 508, 446, 785, 823, 485, 163, 88, 777, 46, 470, 159, 465, 410, 656, 676, 832, 788, 75, 148, 59, 610, 694, 548, 86, 430, 225, 203, 315, 2, 236, 643, 639, 262, 264, 561, 135, 821, 221, 443, 337, 756, 683, 302, 176, 621, 767, 566, 559, 588, 828, 324, 216, 397, 192, 634, 26, 370, 275, 616, 661, 498, 31, 119, 392, 738, 352, 348, 121, 689, 734, 572, 308, 528, 599, 432, 357, 35, 297, 126, 601, 749, 249, 539, 696, 375, 243, 705, 425, 181, 492, 381, 53, 810, 775, 170, 295, 815, 503, 130, 48, 837, 505, 515, 850, 526, 13, 108, 335, 716, 254, 729, 452, 794, 792, 481, 772, 770, 272, 762, 269, 458, 759, 455, 789, 267, 154, 742, 134, 160, 132, 831, 659, 242, 177, 151, 654, 740, 390, 219, 636, 596, 377, 372, 214, 614, 72, 435, 217, 617, 551, 745, 554, 174, 395, 332, 619, 556, 114, 640, 327, 330, 536, 657, 195, 32, 791, 116, 573, 591, 197, 638, 200, 594, 682, 286, 69, 349, 28, 351, 71, 93, 817, 353, 854, 74, 814, 9, 137, 531, 677, 51, 355, 679, 680, 374, 240, 237, 414, 97, 416, 239, 699, 701, 290, 292, 156, 91, 577, 812, 500, 512, 418, 514, 835, 575, 309, 311, 312, 179, 314, 111, 722, 6, 764, 857, 533, 719, 437, 477, 440, 484, 464, 761, 85, 45, 270, 748, 263, 733, 653, 253, 224, 3, 409, 562, 778, 622, 567, 600, 506, 560, 371, 298, 534, 285, 171, 343, 122, 127, 602, 728, 283, 662, 182, 222, 838, 80, 138, 398, 809, 578, 338, 329, 98, 387, 131, 380, 695, 593, 100, 213, 358, 613, 651, 769, 389, 120, 378, 129, 820, 580, 431, 635, 633, 153, 356, 211, 702, 12, 140, 261, 226, 411, 688, 611, 693, 424, 811, 289, 231, 520, 706, 296, 851, 248, 429, 711, 220, 25, 497, 607, 173, 303, 783, 620, 94, 525, 849, 527, 256, 511, 180, 54, 14, 471, 255, 735, 369, 198, 737, 739, 710, 709, 247, 79, 41, 426, 781, 472, 323, 687, 469, 755, 82, 712, 42, 466, 827, 147, 730, 250, 125, 319, 581, 750, 342, 304, 276, 207, 544, 210, 584, 341, 565, 672, 279, 101, 568, 627, 782, 64, 448, 344, 587, 382, 364, 169, 606, 727, 258, 609, 522, 230, 463, 486, 647, 447, 605, 363, 281, 628, 164, 60, 282, 822, 81, 784, 799, 803, 649, 141, 804, 491, 301, 509, 582, 510, 519, 385, 521, 843, 844, 102, 540, 104, 20, 386, 403, 187, 650, 232, 188, 229, 257, 19, 39, 667, 668, 1, 404, 209, 690, 142, 144, 423, 185, 852, 57, 55, 99, 524, 846, 685, 592, 150, 570, 698, 406, 483, 399, 839, 806, 652, 212, 439, 157, 139, 17, 603, 128, 517, 152, 361, 665, 333, 266, 117, 84, 161, 379, 194, 552, 201, 328, 199, 401, 326, 670, 663, 388, 537, 597, 112, 779, 496, 841, 557, 579, 190, 630, 530, 612, 346, 590, 77, 641, 366, 535, 22, 747, 479, 66, 412, 703, 625, 707, 714, 720, 819, 797, 674, 725, 339, 456, 758, 223, 95, 760, 44, 11, 90, 245, 271, 234, 4, 461, 273, 507, 284, 494, 768, 421, 474, 317, 434, 293, 786, 24, 288, 801, 172, 306, 830], \"vertices_labels\": [\"-0.12\", \"0.12\", \"-0.428571\", \"-0.257143\", \"0.12\", \"sub_grade=B1\", \"-0.12\", \"-0.066667\", \"-0.095172\", \"home_ownership=OWN\", \"0.0\", \"emp_length_num<6.0\", \"-0.046154\", \"-0.12233\", \"sub_grade=C1\", \"revol_util<94.850006\", \"dti<10.34\", \"sub_grade=D3\", \"-0.12\", \"-0.219512\", \"-0.12\", \"emp_length_num<3.5\", \"term= 60 months\", \"emp_length_num<8.5\", \"0.0\", \"-0.3\", \"0.257143\", \"dti<13.125\", \"-0.2\", \"dti<34.404999\", \"home_ownership=RENT\", \"revol_util<68.75\", \"0.413793\", \"0.081081\", \"purpose=other\", \"0.0\", \"-0.003243\", \"-0.524455\", \"sub_grade=D1\", \"term= 60 months\", \"last_major_derog_none<0.5\", \"0.085714\", \"0.005093\", \"purpose=credit_card\", \"last_delinq_none<0.5\", \"-0.12\", \"-0.12\", \"revol_util<63.0\", \"0.2\", \"0.36\", \"home_ownership=MORTGAGE\", \"revol_util<1.55\", \"revol_util<19.700001\", \"-0.365854\", \"-0.085714\", \"home_ownership=OWN\", \"0.12\", \"dti<16.83\", \"-0.36\", \"grade=C\", \"dti<9.865\", \"-0.214815\", \"0.257143\", \"dti<16.735001\", \"revol_util<29.5\", \"-0.341177\", \"dti<0.19\", \"-0.085714\", \"sub_grade=A5\", \"-0.12\", \"short_emp<0.5\", \"emp_length_num<7.0\", \"dti<16.435001\", \"sub_grade=A5\", \"0.257143\", \"0.0\", \"0.253333\", \"0.3\", \"revol_util<16.950001\", \"dti<8.54\", \"emp_length_num<0.5\", \"-0.092308\", \"sub_grade=B2\", \"sub_grade=A5\", \"-0.33913\", \"-0.127174\", \"0.257143\", \"0.377778\", \"home_ownership=OWN\", \"-0.257143\", \"dti<30.439999\", \"sub_grade=B1\", \"emp_length_num<7.5\", \"total_rec_late_fee<14.99165\", \"-0.381818\", \"dti<3.64\", \"0.257143\", \"home_ownership=OWN\", \"dti<29.505001\", \"emp_length_num<10.5\", \"revol_util<8.6\", \"purpose=medical\", \"0.2\", \"-0.36\", \"dti<24.435001\", \"revol_util<84.75\", \"purpose=credit_card\", \"purpose=medical\", \"sub_grade=B3\", \"revol_util<52.900002\", \"0.157672\", \"sub_grade=F3\", \"-0.456\", \"revol_util<51.049999\", \"-0.48\", \"home_ownership=RENT\", \"revol_util<31.549999\", \"0.36\", \"home_ownership=MORTGAGE\", \"0.06\", \"sub_grade=E2\", \"short_emp<0.5\", \"dti<1.565\", \"-0.054545\", \"0.0\", \"dti<4.46\", \"0.257143\", \"dti<20.99\", \"-0.381818\", \"revol_util<16.150002\", \"0.12\", \"emp_length_num<0.5\", \"0.176471\", \"-0.184615\", \"0.190099\", \"dti<8.459999\", \"-0.218182\", \"-0.12\", \"0.2\", \"0.250485\", \"-0.2\", \"0.094964\", \"dti<0.295\", \"dti<6.795\", \"0.257143\", \"0.085714\", \"last_major_derog_none<0.5\", \"-0.323077\", \"-0.054545\", \"dti<27.35\", \"0.3\", \"sub_grade=B4\", \"0.381818\", \"emp_length_num<0.5\", \"-0.24\", \"short_emp<0.5\", \"0.184615\", \"purpose=house\", \"term= 60 months\", \"home_ownership=RENT\", \"dti<4.23\", \"purpose=moving\", \"0.085714\", \"-0.2\", \"-0.363692\", \"-0.098182\", \"revol_util<82.050003\", \"0.371429\", \"revol_util<16.25\", \"home_ownership=OTHER\", \"dti<34.949997\", \"-0.214815\", \"-0.2\", \"0.12\", \"dti<31.440001\", \"purpose=debt_consolidation\", \"revol_util<33.349998\", \"0.12973\", \"0.257143\", \"total_rec_late_fee<14.97175\", \"-0.333333\", \"total_rec_late_fee<14.9464\", \"revol_util<31.450001\", \"revol_util<16.85\", \"-0.257143\", \"dti<22.83\", \"0.3\", \"dti<9.219999\", \"0.3875\", \"emp_length_num<4.5\", \"revol_util<98.75\", \"0.415385\", \"0.284211\", \"-0.333333\", \"0.0\", \"sub_grade=A2\", \"home_ownership=OWN\", \"0.2\", \"-0.257143\", \"short_emp<0.5\", \"-0.138462\", \"-0.138462\", \"-0.12\", \"0.12\", \"-0.12\", \"-0.12\", \"0.15\", \"revol_util<25.400002\", \"sub_grade=B3\", \"-0.082927\", \"dti<14.315001\", \"last_delinq_none<0.5\", \"dti<6.445\", \"0.257143\", \"revol_util<63.150002\", \"sub_grade=D2\", \"0.12\", \"0.0\", \"-0.12\", \"dti<35.915001\", \"0.12\", \"-0.171134\", \"last_delinq_none<0.5\", \"-0.037975\", \"0.36\", \"0.2\", \"revol_util<103.550003\", \"dti<27.185001\", \"-0.24\", \"-0.056354\", \"revol_util<56.049999\", \"-0.2\", \"revol_util<60.0\", \"0.12\", \"purpose=small_business\", \"grade=D\", \"sub_grade=D4\", \"0.191489\", \"purpose=small_business\", \"revol_util<47.25\", \"0.158824\", \"dti<18.205\", \"revol_util<12.3\", \"-0.319626\", \"revol_util<51.0\", \"0.12\", \"0.428571\", \"-0.011475\", \"grade=A\", \"short_emp<0.5\", \"-0.024277\", \"-0.11122\", \"last_major_derog_none<0.5\", \"revol_util<87.899994\", \"revol_util<8.1\", \"revol_util<25.65\", \"purpose=house\", \"0.15\", \"purpose=moving\", \"revol_util<2.25\", \"purpose=debt_consolidation\", \"-0.050328\", \"-0.428571\", \"emp_length_num<4.5\", \"grade=D\", \"revol_util<5.35\", \"-0.060182\", \"0.057143\", \"revol_util<98.900002\", \"home_ownership=MORTGAGE\", \"home_ownership=RENT\", \"0.323077\", \"-0.051429\", \"emp_length_num<10.5\", \"-0.2\", \"sub_grade=B4\", \"sub_grade=B5\", \"0.207273\", \"-0.2\", \"0.008696\", \"0.012766\", \"dti<0.345\", \"0.257143\", \"revol_util<89.399994\", \"purpose=credit_card\", \"0.333333\", \"revol_util<20.349998\", \"revol_util<10.5\", \"sub_grade=B3\", \"home_ownership=RENT\", \"0.12\", \"0.085714\", \"-0.12\", \"dti<5.38\", \"revol_util<0.25\", \"0.381818\", \"-0.2\", \"term= 60 months\", \"0.12\", \"0.466667\", \"-0.366667\", \"sub_grade=A1\", \"-0.085714\", \"0.115055\", \"0.2\", \"0.12\", \"dti<19.795\", \"dti<20.564999\", \"0.12\", \"-0.046154\", \"purpose=credit_card\", \"dti<8.32\", \"dti<8.764999\", \"0.415385\", \"revol_util<65.550003\", \"-0.3\", \"dti<16.309999\", \"revol_util<31.25\", \"revol_util<44.650002\", \"0.2\", \"-0.085714\", \"0.257143\", \"0.155556\", \"revol_util<87.149994\", \"short_emp<0.5\", \"purpose=house\", \"-0.381818\", \"0.136462\", \"0.034069\", \"purpose=other\", \"sub_grade=B4\", \"0.3\", \"revol_util<77.050003\", \"0.257143\", \"total_rec_late_fee<14.83015\", \"revol_util<16.0\", \"-0.320755\", \"0.085714\", \"sub_grade=B1\", \"revol_util<92.25\", \"-0.3192\", \"0.12\", \"0.341728\", \"sub_grade=E3\", \"-0.458824\", \"dti<19.564999\", \"0.0\", \"-0.096774\", \"term= 60 months\", \"revol_util<52.650002\", \"0.4\", \"0.257143\", \"-0.158427\", \"-0.144063\", \"-0.209143\", \"0.0\", \"revol_util<39.949997\", \"0.36\", \"-0.257143\", \"short_emp<0.5\", \"-0.12\", \"dti<23.505001\", \"sub_grade=C3\", \"purpose=medical\", \"-0.078726\", \"0.229014\", \"0.12\", \"term= 60 months\", \"revol_util<87.650002\", \"-0.2\", \"0.2\", \"-0.12\", \"emp_length_num<9.0\", \"revol_util<3.15\", \"-0.261538\", \"-0.3\", \"-0.309278\", \"last_major_derog_none<0.5\", \"-0.12\", \"0.317647\", \"revol_util<46.849998\", \"dti<14.434999\", \"dti<10.184999\", \"0.415385\", \"short_emp<0.5\", \"0.167696\", \"-0.028571\", \"last_delinq_none<0.5\", \"-0.120518\", \"0.28\", \"revol_util<18.799999\", \"sub_grade=B2\", \"0.12\", \"0.12\", \"home_ownership=RENT\", \"short_emp<0.5\", \"revol_util<68.5\", \"purpose=car\", \"-0.085714\", \"-0.15\", \"home_ownership=OWN\", \"purpose=credit_card\", \"-0.12\", \"revol_util<66.25\", \"revol_util<39.400002\", \"-0.381818\", \"0.192857\", \"-0.257143\", \"emp_length_num<6.5\", \"0.2\", \"dti<31.57\", \"dti<3.81\", \"0.12\", \"dti<15.975\", \"-0.230769\", \"dti<30.049999\", \"-0.35\", \"sub_grade=B5\", \"-0.12\", \"0.2\", \"-0.381818\", \"0.444944\", \"0.0\", \"dti<9.255\", \"0.420253\", \"0.2\", \"-0.2\", \"0.2\", \"purpose=medical\", \"0.391304\", \"emp_length_num<9.5\", \"revol_util<39.700001\", \"-0.24878\", \"-0.257143\", \"dti<6.53\", \"0.12\", \"-0.12\", \"0.085714\", \"revol_util<23.1\", \"dti<28.685001\", \"last_delinq_none<0.5\", \"0.12\", \"-0.2\", \"-0.12\", \"home_ownership=OWN\", \"0.317647\", \"0.257143\", \"-0.257143\", \"purpose=other\", \"sub_grade=C5\", \"-0.475862\", \"revol_util<84.25\", \"home_ownership=MORTGAGE\", \"revol_util<62.349998\", \"0.12\", \"-0.288\", \"-0.12\", \"-0.124873\", \"revol_util<45.5\", \"revol_util<99.300003\", \"revol_util<44.650002\", \"-0.069663\", \"0.144828\", \"home_ownership=MORTGAGE\", \"-0.471429\", \"dti<8.765\", \"dti<9.26\", \"0.035294\", \"-0.447656\", \"emp_length_num<5.5\", \"grade=D\", \"-0.12\", \"term= 60 months\", \"0.257143\", \"-0.237262\", \"emp_length_num<4.5\", \"-0.048649\", \"purpose=wedding\", \"-0.2352\", \"0.44\", \"revol_util<69.850006\", \"emp_length_num<6.5\", \"revol_util<75.649994\", \"purpose=car\", \"0.323077\", \"sub_grade=G2\", \"purpose=small_business\", \"0.12\", \"dti<8.985\", \"0.12\", \"grade=E\", \"-0.054545\", \"dti<17.235001\", \"last_delinq_none<0.5\", \"emp_length_num<7.0\", \"-0.36\", \"revol_util<52.450001\", \"sub_grade=C2\", \"0.2\", \"-0.12\", \"revol_util<57.5\", \"revol_util<66.099998\", \"0.257143\", \"revol_util<29.299999\", \"-0.44\", \"purpose=credit_card\", \"revol_util<24.799999\", \"-0.408\", \"0.3\", \"-0.2\", \"revol_util<19.6\", \"dti<30.684999\", \"revol_util<17.75\", \"0.3\", \"0.2\", \"sub_grade=A4\", \"-0.12\", \"revol_util<55.75\", \"emp_length_num<9.5\", \"0.237584\", \"-0.27509\", \"revol_util<2.75\", \"purpose=small_business\", \"revol_util<39.650002\", \"purpose=major_purchase\", \"short_emp<0.5\", \"grade=E\", \"0.025641\", \"dti<5.485\", \"0.085714\", \"-0.257143\", \"0.3\", \"0.0\", \"sub_grade=B1\", \"sub_grade=A5\", \"emp_length_num<6.5\", \"purpose=medical\", \"0.45\", \"0.272727\", \"home_ownership=MORTGAGE\", \"sub_grade=A5\", \"-0.2\", \"-0.085714\", \"0.2\", \"0.12\", \"-0.372973\", \"sub_grade=B5\", \"home_ownership=RENT\", \"total_rec_late_fee<0.005\", \"emp_length_num<0.5\", \"-0.081818\", \"-0.2\", \"-0.2\", \"-0.092958\", \"-0.085714\", \"0.12\", \"-0.316129\", \"dti<23.650002\", \"dti<23.834999\", \"-0.12\", \"emp_length_num<0.5\", \"purpose=debt_consolidation\", \"revol_util<96.550003\", \"emp_length_num<0.5\", \"sub_grade=E1\", \"0.086785\", \"0.085714\", \"dti<7.23\", \"0.311351\", \"-0.333333\", \"emp_length_num<4.5\", \"0.0\", \"revol_util<22.900002\", \"dti<9.475\", \"0.2\", \"0.18\", \"-0.15\", \"purpose=medical\", \"emp_length_num<7.5\", \"0.12\", \"sub_grade=C2\", \"sub_grade=F2\", \"revol_util<67.150002\", \"-0.253333\", \"-0.39871\", \"0.257143\", \"dti<27.224998\", \"emp_length_num<6.5\", \"0.12\", \"0.2\", \"0.51831\", \"0.12\", \"last_delinq_none<0.5\", \"purpose=credit_card\", \"sub_grade=C2\", \"0.12\", \"-0.178378\", \"purpose=small_business\", \"0.054545\", \"0.36\", \"dti<1.05\", \"-0.2\", \"sub_grade=C3\", \"-0.12\", \"emp_length_num<0.5\", \"dti<1.26\", \"last_delinq_none<0.5\", \"-0.12\", \"last_major_derog_none<0.5\", \"-0.174194\", \"-0.36\", \"-0.005825\", \"sub_grade=B2\", \"-0.15\", \"dti<8.525\", \"short_emp<0.5\", \"dti<32.34\", \"-0.12\", \"last_delinq_none<0.5\", \"-0.55\", \"-0.428571\", \"dti<18.275002\", \"0.2736\", \"home_ownership=OTHER\", \"revol_util<72.25\", \"-0.2\", \"0.275\", \"dti<16.474998\", \"revol_util<16.4\", \"0.085714\", \"0.0\", \"dti<17.084999\", \"0.4\", \"-0.12\", \"0.12\", \"-0.36\", \"home_ownership=RENT\", \"-0.12\", \"sub_grade=A4\", \"revol_util<11.9\", \"-0.2\", \"dti<19.065001\", \"-0.085714\", \"revol_util<78.550003\", \"grade=E\", \"-0.2\", \"0.24\", \"-0.066667\", \"0.24\", \"sub_grade=B5\", \"emp_length_num<0.5\", \"dti<29.314999\", \"-0.12\", \"0.479397\", \"0.36\", \"dti<17.790001\", \"0.2\", \"revol_util<1.4\", \"-0.461538\", \"dti<17.415001\", \"0.140024\", \"revol_util<45.150002\", \"dti<9.315001\", \"0.342857\", \"sub_grade=B3\", \"0.092308\", \"dti<20.83\", \"sub_grade=C5\", \"sub_grade=A2\", \"0.257143\", \"0.3\", \"emp_length_num<5.0\", \"0.3\", \"-0.12\", \"purpose=small_business\", \"0.265116\", \"revol_util<6.1\", \"-0.251163\", \"short_emp<0.5\", \"-0.27619\", \"0.364706\", \"dti<3.55\", \"-0.12\", \"-0.234783\", \"0.163636\", \"0.0\", \"dti<25.875\", \"dti<19.700001\", \"grade=F\", \"0.12\", \"0.12\", \"revol_util<7.35\", \"sub_grade=A5\", \"0.173793\", \"-0.394286\", \"emp_length_num<10.5\", \"0.072\", \"-0.12\", \"dti<20.215\", \"revol_util<6.6\", \"purpose=other\", \"-0.12\", \"purpose=major_purchase\", \"0.051489\", \"0.443478\", \"-0.257143\", \"-0.226347\", \"sub_grade=A5\", \"emp_length_num<7.0\", \"dti<8.719999\", \"0.184615\", \"sub_grade=B5\", \"-0.257143\", \"-0.2\", \"-0.066667\", \"-0.540984\", \"last_delinq_none<0.5\", \"0.264\", \"0.4\", \"sub_grade=A3\", \"revol_util<7.1\", \"-0.2\", \"-0.333333\", \"revol_util<52.700001\", \"home_ownership=RENT\", \"purpose=major_purchase\", \"0.435294\", \"-0.12\", \"0.12\", \"0.176471\", \"purpose=medical\", \"term= 60 months\", \"0.2\", \"dti<5.805\", \"sub_grade=A4\", \"-0.12\", \"home_ownership=RENT\", \"sub_grade=A4\", \"purpose=house\", \"revol_util<42.650002\", \"term= 60 months\", \"purpose=small_business\", \"0.145674\", \"0.06087\", \"grade=B\", \"revol_util<89.300003\", \"short_emp<0.5\", \"0.257143\", \"dti<11.77\", \"sub_grade=B1\", \"-0.507692\", \"0.2\", \"-0.15\", \"dti<17.610001\", \"0.381818\", \"dti<2.325\", \"dti<29.799999\", \"-0.323077\", \"0.12\", \"0.094737\", \"home_ownership=RENT\", \"0.257143\", \"-0.12\", \"dti<16.634998\", \"-0.2\", \"sub_grade=B2\", \"-0.314286\", \"-0.12\", \"-0.085714\", \"purpose=small_business\", \"emp_length_num<4.5\", \"term= 60 months\", \"revol_util<6.75\", \"dti<11.764999\", \"-0.092308\", \"sub_grade=E4\", \"-0.333333\", \"emp_length_num<6.5\", \"revol_util<1.45\", \"0.249012\", \"revol_util<88.550003\", \"sub_grade=B1\", \"last_delinq_none<0.5\", \"dti<29.605\", \"home_ownership=MORTGAGE\", \"revol_util<88.75\", \"revol_util<34.200001\", \"-0.072\", \"home_ownership=MORTGAGE\", \"revol_util<97.5\", \"purpose=major_purchase\", \"revol_util<55.75\", \"revol_util<95.850006\", \"-0.272727\", \"0.092025\", \"purpose=home_improvement\", \"0.3\", \"0.1\", \"home_ownership=MORTGAGE\", \"0.066667\", \"sub_grade=A1\", \"0.211765\", \"0.44\", \"-0.369664\", \"home_ownership=MORTGAGE\", \"-0.158824\", \"total_rec_late_fee<29.869499\", \"0.415385\", \"revol_util<85.350006\", \"-0.085714\", \"home_ownership=OWN\", \"-0.138462\", \"0.12\", \"-0.251948\", \"total_rec_late_fee<101.98465\", \"-0.442857\", \"purpose=debt_consolidation\", \"revol_util<8.450001\", \"dti<10.125\", \"-0.12\", \"-0.391304\", \"-0.210811\", \"0.021294\", \"0.12\", \"-0.257143\", \"0.335294\", \"0.060674\", \"0.257143\", \"revol_util<58.75\", \"revol_util<22.799999\", \"-0.348837\", \"dti<0.93\", \"sub_grade=A3\", \"-0.12\", \"0.12\", \"purpose=small_business\", \"last_delinq_none<0.5\", \"dti<17.005001\", \"purpose=other\", \"sub_grade=B1\", \"total_rec_late_fee<0.005\", \"emp_length_num<3.5\", \"revol_util<14.55\", \"purpose=other\", \"emp_length_num<4.0\", \"sub_grade=A2\", \"-0.163636\", \"-0.3\", \"revol_util<32.300003\", \"purpose=major_purchase\", \"short_emp<0.5\", \"revol_util<11.7\", \"0.336032\", \"revol_util<58.599998\", \"short_emp<0.5\", \"-0.2\", \"dti<23.995001\", \"revol_util<72.399994\", \"-0.3\"], \"edges\": [[436, 723], [155, 268], [268, 457], [480, 790], [331, 555], [196, 336], [215, 373], [394, 655], [396, 660], [241, 417], [499, 813], [52, 96], [532, 858], [436, 724], [10, 21], [87, 162], [7, 16], [113, 193], [33, 65], [354, 598], [417, 697], [47, 89], [513, 829], [29, 58], [454, 753], [454, 754], [478, 785], [7, 15], [8, 18], [175, 305], [441, 734], [196, 335], [336, 566], [68, 126], [376, 634], [70, 130], [394, 656], [413, 689], [415, 694], [291, 492], [313, 526], [27, 53], [155, 267], [268, 458], [457, 759], [459, 762], [480, 789], [482, 792], [482, 791], [331, 556], [115, 197], [350, 594], [215, 374], [218, 377], [396, 659], [241, 418], [499, 814], [178, 311], [178, 312], [96, 179], [532, 857], [438, 728], [441, 733], [5, 12], [459, 761], [115, 198], [350, 593], [376, 633], [218, 378], [70, 129], [391, 651], [238, 411], [415, 693], [92, 171], [310, 520], [96, 180], [313, 525], [27, 54], [438, 727], [336, 565], [373, 627], [373, 628], [68, 125], [413, 690], [291, 491], [310, 519], [10, 22], [457, 760], [5, 11], [87, 161], [478, 786], [113, 194], [33, 66], [354, 597], [8, 17], [391, 652], [238, 412], [417, 698], [47, 90], [92, 172], [175, 306], [513, 830], [52, 95], [29, 57], [460, 763], [63, 115], [16, 33], [367, 615], [34, 68], [407, 678], [422, 704], [49, 92], [502, 818], [516, 836], [265, 451], [453, 752], [158, 274], [191, 325], [325, 543], [202, 347], [118, 204], [16, 34], [34, 67], [400, 664], [235, 407], [488, 800], [493, 807], [442, 736], [453, 751], [189, 322], [189, 321], [360, 608], [67, 124], [67, 123], [235, 408], [89, 165], [89, 166], [493, 808], [58, 105], [58, 106], [444, 738], [265, 452], [23, 46], [274, 465], [473, 777], [334, 561], [202, 348], [347, 588], [118, 203], [204, 352], [65, 119], [367, 616], [294, 498], [30, 59], [460, 764], [193, 330], [63, 116], [204, 351], [393, 654], [36, 72], [36, 71], [407, 677], [420, 701], [49, 91], [502, 817], [516, 835], [149, 255], [149, 256], [442, 735], [444, 737], [23, 45], [473, 778], [193, 329], [334, 562], [65, 120], [360, 607], [393, 653], [76, 140], [420, 702], [294, 497], [529, 851], [274, 466], [475, 781], [475, 782], [162, 281], [162, 282], [325, 544], [347, 587], [402, 668], [402, 667], [488, 799], [56, 101], [56, 102], [30, 60], [107, 187], [107, 188], [158, 273], [191, 326], [400, 663], [76, 139], [422, 703], [529, 852], [446, 741], [467, 773], [280, 476], [62, 113], [340, 574], [205, 354], [368, 618], [124, 215], [227, 391], [228, 394], [37, 73], [165, 287], [168, 291], [318, 532], [252, 433], [467, 774], [280, 475], [322, 538], [208, 360], [383, 644], [228, 393], [143, 244], [489, 802], [508, 824], [103, 184], [43, 83], [345, 583], [208, 359], [18, 37], [18, 38], [405, 673], [40, 78], [78, 143], [427, 708], [508, 823], [523, 845], [103, 183], [277, 470], [0, 2], [15, 31], [124, 216], [383, 643], [227, 392], [143, 243], [246, 425], [146, 249], [518, 837], [445, 740], [446, 742], [83, 154], [15, 32], [61, 111], [321, 536], [62, 114], [340, 573], [205, 353], [206, 355], [365, 614], [368, 617], [123, 214], [37, 74], [408, 680], [408, 679], [166, 290], [168, 292], [305, 512], [318, 531], [445, 739], [83, 153], [449, 748], [278, 471], [206, 356], [365, 613], [123, 213], [145, 248], [166, 289], [305, 511], [518, 838], [277, 469], [278, 472], [0, 1], [345, 584], [359, 606], [359, 605], [233, 403], [233, 404], [78, 144], [246, 426], [145, 247], [428, 709], [428, 710], [146, 250], [490, 803], [490, 804], [252, 434], [43, 84], [449, 747], [61, 112], [321, 535], [322, 537], [405, 674], [40, 77], [427, 707], [165, 288], [489, 801], [523, 846], [432, 718], [254, 438], [2, 5], [46, 87], [203, 350], [35, 70], [485, 795], [295, 499], [26, 52], [515, 834], [13, 27], [432, 717], [348, 589], [375, 631], [381, 642], [410, 684], [243, 422], [485, 796], [176, 307], [308, 516], [515, 833], [181, 316], [59, 107], [430, 713], [264, 449], [264, 450], [275, 468], [275, 467], [31, 62], [31, 61], [324, 541], [324, 542], [335, 563], [335, 564], [119, 205], [119, 206], [375, 632], [221, 384], [221, 383], [130, 227], [130, 228], [492, 805], [302, 508], [249, 430], [148, 254], [452, 749], [86, 159], [159, 275], [46, 88], [88, 163], [357, 601], [370, 621], [236, 410], [410, 683], [170, 295], [176, 308], [308, 515], [526, 850], [181, 315], [59, 108], [254, 437], [2, 6], [465, 770], [86, 160], [192, 327], [203, 349], [126, 219], [35, 69], [75, 137], [295, 500], [26, 51], [13, 28], [53, 97], [249, 429], [148, 253], [465, 769], [163, 283], [337, 567], [357, 602], [370, 622], [126, 220], [75, 138], [236, 409], [170, 296], [503, 820], [526, 849], [53, 98], [262, 448], [262, 447], [452, 750], [159, 276], [88, 164], [337, 568], [121, 209], [121, 210], [430, 714], [163, 284], [192, 328], [348, 590], [381, 641], [243, 421], [492, 806], [503, 819], [302, 507], [435, 721], [330, 553], [114, 196], [353, 595], [217, 376], [395, 658], [72, 133], [74, 136], [239, 413], [240, 415], [418, 700], [242, 419], [500, 816], [177, 310], [179, 313], [531, 855], [531, 856], [437, 726], [154, 265], [272, 462], [111, 189], [327, 547], [332, 558], [195, 334], [32, 63], [242, 420], [292, 493], [28, 56], [440, 731], [440, 732], [151, 259], [151, 260], [160, 277], [160, 278], [372, 626], [374, 629], [414, 691], [414, 692], [309, 518], [312, 523], [455, 756], [327, 548], [197, 337], [355, 599], [217, 375], [74, 135], [416, 696], [286, 485], [91, 170], [500, 815], [514, 832], [314, 528], [6, 13], [435, 722], [267, 455], [156, 269], [330, 554], [114, 195], [116, 200], [349, 591], [353, 596], [214, 372], [71, 132], [395, 657], [72, 134], [239, 414], [240, 416], [418, 699], [51, 93], [93, 174], [514, 831], [177, 309], [179, 314], [156, 270], [477, 783], [197, 338], [200, 343], [355, 600], [214, 371], [219, 380], [69, 127], [71, 131], [137, 231], [416, 695], [51, 94], [93, 173], [174, 303], [314, 527], [6, 14], [455, 755], [477, 784], [32, 64], [200, 344], [9, 19], [9, 20], [137, 232], [286, 486], [91, 169], [174, 304], [311, 522], [311, 521], [437, 725], [154, 266], [267, 456], [272, 461], [111, 190], [332, 557], [195, 333], [116, 199], [349, 592], [372, 625], [374, 630], [219, 379], [69, 128], [292, 494], [309, 517], [312, 524], [28, 55], [253, 436], [283, 480], [484, 793], [3, 7], [3, 8], [409, 681], [140, 238], [25, 50], [296, 501], [298, 504], [94, 175], [14, 29], [431, 715], [85, 158], [338, 569], [371, 624], [231, 400], [411, 686], [25, 49], [296, 502], [520, 842], [14, 30], [261, 445], [261, 446], [198, 340], [120, 208], [358, 604], [211, 365], [371, 623], [387, 648], [138, 233], [289, 489], [289, 490], [431, 716], [80, 148], [153, 264], [45, 86], [213, 370], [380, 639], [220, 381], [127, 221], [129, 225], [424, 705], [12, 26], [171, 297], [298, 503], [173, 302], [94, 176], [511, 828], [253, 435], [255, 440], [484, 794], [329, 551], [369, 619], [378, 636], [380, 640], [224, 390], [409, 682], [140, 237], [429, 711], [153, 263], [45, 85], [285, 484], [343, 580], [122, 211], [213, 369], [369, 620], [378, 635], [127, 222], [224, 389], [129, 226], [424, 706], [12, 25], [171, 298], [54, 100], [429, 712], [80, 147], [120, 207], [220, 382], [222, 385], [222, 386], [387, 647], [131, 230], [131, 229], [173, 301], [303, 509], [303, 510], [511, 827], [255, 439], [85, 157], [283, 479], [285, 483], [329, 552], [338, 570], [198, 339], [343, 579], [358, 603], [122, 212], [211, 366], [231, 399], [138, 234], [411, 685], [520, 841], [54, 99], [257, 441], [447, 744], [447, 743], [448, 746], [466, 771], [469, 776], [282, 478], [341, 576], [125, 218], [229, 396], [142, 241], [60, 110], [81, 149], [257, 442], [258, 444], [279, 473], [64, 118], [209, 362], [39, 76], [232, 402], [404, 671], [486, 798], [169, 294], [519, 840], [188, 320], [60, 109], [147, 252], [147, 251], [385, 646], [385, 645], [19, 40], [403, 669], [144, 246], [79, 145], [79, 146], [247, 428], [247, 427], [509, 825], [509, 826], [104, 186], [187, 318], [250, 432], [258, 443], [463, 767], [469, 775], [323, 539], [207, 357], [230, 397], [39, 75], [301, 505], [82, 151], [448, 745], [466, 772], [282, 477], [164, 286], [341, 575], [342, 577], [125, 217], [229, 395], [141, 239], [141, 240], [142, 242], [319, 533], [250, 431], [164, 285], [1, 3], [342, 578], [207, 358], [364, 611], [230, 398], [41, 80], [301, 506], [319, 534], [42, 81], [42, 82], [323, 540], [344, 582], [344, 581], [210, 363], [210, 364], [19, 39], [404, 672], [20, 42], [20, 41], [41, 79], [521, 844], [521, 843], [188, 319], [81, 150], [82, 152], [463, 768], [279, 474], [1, 4], [64, 117], [209, 361], [364, 612], [232, 401], [403, 670], [144, 245], [486, 797], [169, 293], [519, 839], [104, 185], [187, 317], [266, 454], [84, 155], [271, 459], [461, 765], [284, 482], [328, 550], [194, 331], [379, 637], [4, 10], [24, 47], [306, 513], [95, 178], [530, 853], [266, 453], [456, 757], [11, 23], [271, 460], [461, 766], [479, 787], [112, 191], [328, 549], [339, 571], [117, 202], [212, 367], [17, 36], [401, 666], [406, 675], [139, 235], [288, 488], [90, 167], [293, 495], [524, 847], [317, 529], [22, 43], [161, 280], [474, 780], [326, 545], [326, 546], [201, 345], [346, 585], [346, 586], [212, 368], [234, 405], [288, 487], [90, 168], [172, 299], [172, 300], [524, 848], [57, 103], [439, 729], [152, 262], [479, 788], [190, 324], [112, 192], [333, 559], [339, 572], [66, 121], [361, 610], [17, 35], [399, 661], [406, 676], [139, 236], [24, 48], [494, 810], [507, 821], [99, 181], [434, 719], [84, 156], [157, 272], [284, 481], [194, 332], [379, 638], [4, 9], [496, 812], [306, 514], [95, 177], [530, 854], [152, 261], [273, 464], [333, 560], [66, 122], [128, 224], [223, 387], [399, 662], [412, 688], [245, 424], [494, 809], [496, 811], [99, 182], [439, 730], [150, 258], [150, 257], [273, 463], [161, 279], [190, 323], [199, 342], [199, 341], [361, 609], [388, 650], [388, 649], [412, 687], [77, 142], [77, 141], [245, 423], [507, 822], [57, 104], [434, 720], [22, 44], [456, 758], [11, 24], [157, 271], [474, 779], [117, 201], [201, 346], [128, 223], [223, 388], [401, 665], [234, 406], [293, 496], [317, 530]], \"ipython\": true, \"error_msg\": \"\"}, e);\n",
       "                });\n",
       "            })();\n",
       "        "
      ]
     },
     "metadata": {},
     "output_type": "display_data"
    }
   ],
   "source": [
    "big_model.show(view='Tree')"
   ]
  },
  {
   "cell_type": "code",
   "execution_count": 45,
   "metadata": {
    "collapsed": false
   },
   "outputs": [
    {
     "name": "stdout",
     "output_type": "stream",
     "text": [
      "0.665538362347\n",
      "0.627423524343\n"
     ]
    }
   ],
   "source": [
    "print big_model.evaluate(train_data)['accuracy']\n",
    "print big_model.evaluate(validation_data)['accuracy']"
   ]
  },
  {
   "cell_type": "markdown",
   "metadata": {},
   "source": [
    "**Checkpoint:** We should see that **big_model** has even better performance on the training set than **decision_tree_model** did on the training set."
   ]
  },
  {
   "cell_type": "markdown",
   "metadata": {},
   "source": [
    "**Quiz Question:** How does the performance of **big_model** on the validation set compare to **decision_tree_model** on the validation set? Is this a sign of overfitting?"
   ]
  },
  {
   "cell_type": "markdown",
   "metadata": {},
   "source": [
    "### Quantifying the cost of mistakes\n",
    "\n",
    "Every mistake the model makes costs money. In this section, we will try and quantify the cost of each mistake made by the model.\n",
    "\n",
    "Assume the following:\n",
    "\n",
    "* **False negatives**: Loans that were actually safe but were predicted to be risky. This results in an oppurtunity cost of losing a loan that would have otherwise been accepted. \n",
    "* **False positives**: Loans that were actually risky but were predicted to be safe. These are much more expensive because it results in a risky loan being given. \n",
    "* **Correct predictions**: All correct predictions don't typically incur any cost.\n",
    "\n",
    "\n",
    "Let's write code that can compute the cost of mistakes made by the model. Complete the following 4 steps:\n",
    "1. First, let us compute the predictions made by the model.\n",
    "1. Second, compute the number of false positives.\n",
    "2. Third, compute the number of false negatives.\n",
    "3. Finally, compute the cost of mistakes made by the model by adding up the costs of true positives and false positives.\n",
    "\n",
    "First, let us make predictions on `validation_data` using the `decision_tree_model`:"
   ]
  },
  {
   "cell_type": "code",
   "execution_count": 64,
   "metadata": {
    "collapsed": false
   },
   "outputs": [],
   "source": [
    "predictions = decision_tree_model.predict(validation_data)\n",
    "validation_data['decision_tree_prediction'] = predictions"
   ]
  },
  {
   "cell_type": "markdown",
   "metadata": {},
   "source": [
    "**False positives** are predictions where the model predicts +1 but the true label is -1. Complete the following code block for the number of false positives:"
   ]
  },
  {
   "cell_type": "code",
   "execution_count": 75,
   "metadata": {
    "collapsed": false
   },
   "outputs": [
    {
     "name": "stdout",
     "output_type": "stream",
     "text": [
      "1656\n"
     ]
    }
   ],
   "source": [
    "false_positives=(validation_data[(validation_data['decision_tree_prediction']==+1) & (validation_data['safe_loans']==-1)])\n",
    "false_positives_count = false_positives.num_rows()\n",
    "print false_positives_count"
   ]
  },
  {
   "cell_type": "markdown",
   "metadata": {},
   "source": [
    "**False negatives** are predictions where the model predicts -1 but the true label is +1. Complete the following code block for the number of false negatives:"
   ]
  },
  {
   "cell_type": "code",
   "execution_count": 76,
   "metadata": {
    "collapsed": false
   },
   "outputs": [
    {
     "name": "stdout",
     "output_type": "stream",
     "text": [
      "1716\n"
     ]
    }
   ],
   "source": [
    "false_negatives=(validation_data[(validation_data['decision_tree_prediction']==-1) & (validation_data['safe_loans']==+1)])\n",
    "false_negatives_count = false_negatives.num_rows()\n",
    "print false_negatives_count"
   ]
  },
  {
   "cell_type": "markdown",
   "metadata": {},
   "source": [
    "**Quiz Question:** Let us assume that each mistake costs money:\n",
    "* Assume a cost of \\$10,000 per false negative.\n",
    "* Assume a cost of \\$20,000 per false positive.\n",
    "\n",
    "What is the total cost of mistakes made by `decision_tree_model` on `validation_data`?"
   ]
  },
  {
   "cell_type": "code",
   "execution_count": 78,
   "metadata": {
    "collapsed": false
   },
   "outputs": [
    {
     "name": "stdout",
     "output_type": "stream",
     "text": [
      "50280000.0\n"
     ]
    }
   ],
   "source": [
    "total_cost = 10000.0*false_negatives_count + 20000.0*false_positives_count\n",
    "print total_cost"
   ]
  }
 ],
 "metadata": {
  "kernelspec": {
   "display_name": "Python 2",
   "language": "python",
   "name": "python2"
  },
  "language_info": {
   "codemirror_mode": {
    "name": "ipython",
    "version": 2
   },
   "file_extension": ".py",
   "mimetype": "text/x-python",
   "name": "python",
   "nbconvert_exporter": "python",
   "pygments_lexer": "ipython2",
   "version": "2.7.11"
  }
 },
 "nbformat": 4,
 "nbformat_minor": 0
}
